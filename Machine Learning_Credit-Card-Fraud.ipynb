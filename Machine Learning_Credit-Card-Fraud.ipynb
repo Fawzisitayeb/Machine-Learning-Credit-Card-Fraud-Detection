{
 "cells": [
  {
   "cell_type": "code",
   "execution_count": 111,
   "metadata": {},
   "outputs": [],
   "source": [
    "# Import libraries\n",
    "import pandas as pd\n",
    "import numpy as np\n",
    "import seaborn as sns\n",
    "import matplotlib.pyplot as plt"
   ]
  },
  {
   "cell_type": "code",
   "execution_count": 112,
   "metadata": {},
   "outputs": [
    {
     "data": {
      "text/html": [
       "<div>\n",
       "<style scoped>\n",
       "    .dataframe tbody tr th:only-of-type {\n",
       "        vertical-align: middle;\n",
       "    }\n",
       "\n",
       "    .dataframe tbody tr th {\n",
       "        vertical-align: top;\n",
       "    }\n",
       "\n",
       "    .dataframe thead th {\n",
       "        text-align: right;\n",
       "    }\n",
       "</style>\n",
       "<table border=\"1\" class=\"dataframe\">\n",
       "  <thead>\n",
       "    <tr style=\"text-align: right;\">\n",
       "      <th></th>\n",
       "      <th>Time</th>\n",
       "      <th>V1</th>\n",
       "      <th>V2</th>\n",
       "      <th>V3</th>\n",
       "      <th>V4</th>\n",
       "      <th>V5</th>\n",
       "      <th>V6</th>\n",
       "      <th>V7</th>\n",
       "      <th>V8</th>\n",
       "      <th>V9</th>\n",
       "      <th>...</th>\n",
       "      <th>V21</th>\n",
       "      <th>V22</th>\n",
       "      <th>V23</th>\n",
       "      <th>V24</th>\n",
       "      <th>V25</th>\n",
       "      <th>V26</th>\n",
       "      <th>V27</th>\n",
       "      <th>V28</th>\n",
       "      <th>Amount</th>\n",
       "      <th>Class</th>\n",
       "    </tr>\n",
       "  </thead>\n",
       "  <tbody>\n",
       "    <tr>\n",
       "      <th>0</th>\n",
       "      <td>0.0</td>\n",
       "      <td>-1.359807</td>\n",
       "      <td>-0.072781</td>\n",
       "      <td>2.536347</td>\n",
       "      <td>1.378155</td>\n",
       "      <td>-0.338321</td>\n",
       "      <td>0.462388</td>\n",
       "      <td>0.239599</td>\n",
       "      <td>0.098698</td>\n",
       "      <td>0.363787</td>\n",
       "      <td>...</td>\n",
       "      <td>-0.018307</td>\n",
       "      <td>0.277838</td>\n",
       "      <td>-0.110474</td>\n",
       "      <td>0.066928</td>\n",
       "      <td>0.128539</td>\n",
       "      <td>-0.189115</td>\n",
       "      <td>0.133558</td>\n",
       "      <td>-0.021053</td>\n",
       "      <td>149.62</td>\n",
       "      <td>0</td>\n",
       "    </tr>\n",
       "    <tr>\n",
       "      <th>1</th>\n",
       "      <td>0.0</td>\n",
       "      <td>1.191857</td>\n",
       "      <td>0.266151</td>\n",
       "      <td>0.166480</td>\n",
       "      <td>0.448154</td>\n",
       "      <td>0.060018</td>\n",
       "      <td>-0.082361</td>\n",
       "      <td>-0.078803</td>\n",
       "      <td>0.085102</td>\n",
       "      <td>-0.255425</td>\n",
       "      <td>...</td>\n",
       "      <td>-0.225775</td>\n",
       "      <td>-0.638672</td>\n",
       "      <td>0.101288</td>\n",
       "      <td>-0.339846</td>\n",
       "      <td>0.167170</td>\n",
       "      <td>0.125895</td>\n",
       "      <td>-0.008983</td>\n",
       "      <td>0.014724</td>\n",
       "      <td>2.69</td>\n",
       "      <td>0</td>\n",
       "    </tr>\n",
       "    <tr>\n",
       "      <th>2</th>\n",
       "      <td>1.0</td>\n",
       "      <td>-1.358354</td>\n",
       "      <td>-1.340163</td>\n",
       "      <td>1.773209</td>\n",
       "      <td>0.379780</td>\n",
       "      <td>-0.503198</td>\n",
       "      <td>1.800499</td>\n",
       "      <td>0.791461</td>\n",
       "      <td>0.247676</td>\n",
       "      <td>-1.514654</td>\n",
       "      <td>...</td>\n",
       "      <td>0.247998</td>\n",
       "      <td>0.771679</td>\n",
       "      <td>0.909412</td>\n",
       "      <td>-0.689281</td>\n",
       "      <td>-0.327642</td>\n",
       "      <td>-0.139097</td>\n",
       "      <td>-0.055353</td>\n",
       "      <td>-0.059752</td>\n",
       "      <td>378.66</td>\n",
       "      <td>0</td>\n",
       "    </tr>\n",
       "    <tr>\n",
       "      <th>3</th>\n",
       "      <td>1.0</td>\n",
       "      <td>-0.966272</td>\n",
       "      <td>-0.185226</td>\n",
       "      <td>1.792993</td>\n",
       "      <td>-0.863291</td>\n",
       "      <td>-0.010309</td>\n",
       "      <td>1.247203</td>\n",
       "      <td>0.237609</td>\n",
       "      <td>0.377436</td>\n",
       "      <td>-1.387024</td>\n",
       "      <td>...</td>\n",
       "      <td>-0.108300</td>\n",
       "      <td>0.005274</td>\n",
       "      <td>-0.190321</td>\n",
       "      <td>-1.175575</td>\n",
       "      <td>0.647376</td>\n",
       "      <td>-0.221929</td>\n",
       "      <td>0.062723</td>\n",
       "      <td>0.061458</td>\n",
       "      <td>123.50</td>\n",
       "      <td>0</td>\n",
       "    </tr>\n",
       "    <tr>\n",
       "      <th>4</th>\n",
       "      <td>2.0</td>\n",
       "      <td>-1.158233</td>\n",
       "      <td>0.877737</td>\n",
       "      <td>1.548718</td>\n",
       "      <td>0.403034</td>\n",
       "      <td>-0.407193</td>\n",
       "      <td>0.095921</td>\n",
       "      <td>0.592941</td>\n",
       "      <td>-0.270533</td>\n",
       "      <td>0.817739</td>\n",
       "      <td>...</td>\n",
       "      <td>-0.009431</td>\n",
       "      <td>0.798278</td>\n",
       "      <td>-0.137458</td>\n",
       "      <td>0.141267</td>\n",
       "      <td>-0.206010</td>\n",
       "      <td>0.502292</td>\n",
       "      <td>0.219422</td>\n",
       "      <td>0.215153</td>\n",
       "      <td>69.99</td>\n",
       "      <td>0</td>\n",
       "    </tr>\n",
       "  </tbody>\n",
       "</table>\n",
       "<p>5 rows × 31 columns</p>\n",
       "</div>"
      ],
      "text/plain": [
       "   Time        V1        V2        V3        V4        V5        V6        V7  \\\n",
       "0   0.0 -1.359807 -0.072781  2.536347  1.378155 -0.338321  0.462388  0.239599   \n",
       "1   0.0  1.191857  0.266151  0.166480  0.448154  0.060018 -0.082361 -0.078803   \n",
       "2   1.0 -1.358354 -1.340163  1.773209  0.379780 -0.503198  1.800499  0.791461   \n",
       "3   1.0 -0.966272 -0.185226  1.792993 -0.863291 -0.010309  1.247203  0.237609   \n",
       "4   2.0 -1.158233  0.877737  1.548718  0.403034 -0.407193  0.095921  0.592941   \n",
       "\n",
       "         V8        V9  ...       V21       V22       V23       V24       V25  \\\n",
       "0  0.098698  0.363787  ... -0.018307  0.277838 -0.110474  0.066928  0.128539   \n",
       "1  0.085102 -0.255425  ... -0.225775 -0.638672  0.101288 -0.339846  0.167170   \n",
       "2  0.247676 -1.514654  ...  0.247998  0.771679  0.909412 -0.689281 -0.327642   \n",
       "3  0.377436 -1.387024  ... -0.108300  0.005274 -0.190321 -1.175575  0.647376   \n",
       "4 -0.270533  0.817739  ... -0.009431  0.798278 -0.137458  0.141267 -0.206010   \n",
       "\n",
       "        V26       V27       V28  Amount  Class  \n",
       "0 -0.189115  0.133558 -0.021053  149.62      0  \n",
       "1  0.125895 -0.008983  0.014724    2.69      0  \n",
       "2 -0.139097 -0.055353 -0.059752  378.66      0  \n",
       "3 -0.221929  0.062723  0.061458  123.50      0  \n",
       "4  0.502292  0.219422  0.215153   69.99      0  \n",
       "\n",
       "[5 rows x 31 columns]"
      ]
     },
     "execution_count": 112,
     "metadata": {},
     "output_type": "execute_result"
    }
   ],
   "source": [
    "#load the dataset\n",
    "df= pd.read_csv('creditcard.csv')\n",
    "df.head()"
   ]
  },
  {
   "cell_type": "code",
   "execution_count": 113,
   "metadata": {},
   "outputs": [
    {
     "data": {
      "text/html": [
       "<div>\n",
       "<style scoped>\n",
       "    .dataframe tbody tr th:only-of-type {\n",
       "        vertical-align: middle;\n",
       "    }\n",
       "\n",
       "    .dataframe tbody tr th {\n",
       "        vertical-align: top;\n",
       "    }\n",
       "\n",
       "    .dataframe thead th {\n",
       "        text-align: right;\n",
       "    }\n",
       "</style>\n",
       "<table border=\"1\" class=\"dataframe\">\n",
       "  <thead>\n",
       "    <tr style=\"text-align: right;\">\n",
       "      <th></th>\n",
       "      <th>Time</th>\n",
       "      <th>V1</th>\n",
       "      <th>V2</th>\n",
       "      <th>V3</th>\n",
       "      <th>V4</th>\n",
       "      <th>V5</th>\n",
       "      <th>V6</th>\n",
       "      <th>V7</th>\n",
       "      <th>V8</th>\n",
       "      <th>V9</th>\n",
       "      <th>...</th>\n",
       "      <th>V21</th>\n",
       "      <th>V22</th>\n",
       "      <th>V23</th>\n",
       "      <th>V24</th>\n",
       "      <th>V25</th>\n",
       "      <th>V26</th>\n",
       "      <th>V27</th>\n",
       "      <th>V28</th>\n",
       "      <th>Amount</th>\n",
       "      <th>Class</th>\n",
       "    </tr>\n",
       "  </thead>\n",
       "  <tbody>\n",
       "    <tr>\n",
       "      <th>count</th>\n",
       "      <td>284807.000000</td>\n",
       "      <td>2.848070e+05</td>\n",
       "      <td>2.848070e+05</td>\n",
       "      <td>2.848070e+05</td>\n",
       "      <td>2.848070e+05</td>\n",
       "      <td>2.848070e+05</td>\n",
       "      <td>2.848070e+05</td>\n",
       "      <td>2.848070e+05</td>\n",
       "      <td>2.848070e+05</td>\n",
       "      <td>2.848070e+05</td>\n",
       "      <td>...</td>\n",
       "      <td>2.848070e+05</td>\n",
       "      <td>2.848070e+05</td>\n",
       "      <td>2.848070e+05</td>\n",
       "      <td>2.848070e+05</td>\n",
       "      <td>2.848070e+05</td>\n",
       "      <td>2.848070e+05</td>\n",
       "      <td>2.848070e+05</td>\n",
       "      <td>2.848070e+05</td>\n",
       "      <td>284807.000000</td>\n",
       "      <td>284807.000000</td>\n",
       "    </tr>\n",
       "    <tr>\n",
       "      <th>mean</th>\n",
       "      <td>94813.859575</td>\n",
       "      <td>1.758743e-12</td>\n",
       "      <td>-8.252298e-13</td>\n",
       "      <td>-9.636929e-13</td>\n",
       "      <td>8.316157e-13</td>\n",
       "      <td>1.591952e-13</td>\n",
       "      <td>4.247354e-13</td>\n",
       "      <td>-3.050180e-13</td>\n",
       "      <td>8.693344e-14</td>\n",
       "      <td>-1.179712e-12</td>\n",
       "      <td>...</td>\n",
       "      <td>-3.406543e-13</td>\n",
       "      <td>-5.713163e-13</td>\n",
       "      <td>-9.725303e-13</td>\n",
       "      <td>1.464139e-12</td>\n",
       "      <td>-6.989087e-13</td>\n",
       "      <td>-5.615260e-13</td>\n",
       "      <td>3.332112e-12</td>\n",
       "      <td>-3.518886e-12</td>\n",
       "      <td>88.349619</td>\n",
       "      <td>0.001727</td>\n",
       "    </tr>\n",
       "    <tr>\n",
       "      <th>std</th>\n",
       "      <td>47488.145955</td>\n",
       "      <td>1.958696e+00</td>\n",
       "      <td>1.651309e+00</td>\n",
       "      <td>1.516255e+00</td>\n",
       "      <td>1.415869e+00</td>\n",
       "      <td>1.380247e+00</td>\n",
       "      <td>1.332271e+00</td>\n",
       "      <td>1.237094e+00</td>\n",
       "      <td>1.194353e+00</td>\n",
       "      <td>1.098632e+00</td>\n",
       "      <td>...</td>\n",
       "      <td>7.345240e-01</td>\n",
       "      <td>7.257016e-01</td>\n",
       "      <td>6.244603e-01</td>\n",
       "      <td>6.056471e-01</td>\n",
       "      <td>5.212781e-01</td>\n",
       "      <td>4.822270e-01</td>\n",
       "      <td>4.036325e-01</td>\n",
       "      <td>3.300833e-01</td>\n",
       "      <td>250.120109</td>\n",
       "      <td>0.041527</td>\n",
       "    </tr>\n",
       "    <tr>\n",
       "      <th>min</th>\n",
       "      <td>0.000000</td>\n",
       "      <td>-5.640751e+01</td>\n",
       "      <td>-7.271573e+01</td>\n",
       "      <td>-4.832559e+01</td>\n",
       "      <td>-5.683171e+00</td>\n",
       "      <td>-1.137433e+02</td>\n",
       "      <td>-2.616051e+01</td>\n",
       "      <td>-4.355724e+01</td>\n",
       "      <td>-7.321672e+01</td>\n",
       "      <td>-1.343407e+01</td>\n",
       "      <td>...</td>\n",
       "      <td>-3.483038e+01</td>\n",
       "      <td>-1.093314e+01</td>\n",
       "      <td>-4.480774e+01</td>\n",
       "      <td>-2.836627e+00</td>\n",
       "      <td>-1.029540e+01</td>\n",
       "      <td>-2.604551e+00</td>\n",
       "      <td>-2.256568e+01</td>\n",
       "      <td>-1.543008e+01</td>\n",
       "      <td>0.000000</td>\n",
       "      <td>0.000000</td>\n",
       "    </tr>\n",
       "    <tr>\n",
       "      <th>25%</th>\n",
       "      <td>54201.500000</td>\n",
       "      <td>-9.203734e-01</td>\n",
       "      <td>-5.985499e-01</td>\n",
       "      <td>-8.903648e-01</td>\n",
       "      <td>-8.486401e-01</td>\n",
       "      <td>-6.915971e-01</td>\n",
       "      <td>-7.682956e-01</td>\n",
       "      <td>-5.540759e-01</td>\n",
       "      <td>-2.086297e-01</td>\n",
       "      <td>-6.430976e-01</td>\n",
       "      <td>...</td>\n",
       "      <td>-2.283949e-01</td>\n",
       "      <td>-5.423504e-01</td>\n",
       "      <td>-1.618463e-01</td>\n",
       "      <td>-3.545861e-01</td>\n",
       "      <td>-3.171451e-01</td>\n",
       "      <td>-3.269839e-01</td>\n",
       "      <td>-7.083953e-02</td>\n",
       "      <td>-5.295979e-02</td>\n",
       "      <td>5.600000</td>\n",
       "      <td>0.000000</td>\n",
       "    </tr>\n",
       "    <tr>\n",
       "      <th>50%</th>\n",
       "      <td>84692.000000</td>\n",
       "      <td>1.810880e-02</td>\n",
       "      <td>6.548556e-02</td>\n",
       "      <td>1.798463e-01</td>\n",
       "      <td>-1.984653e-02</td>\n",
       "      <td>-5.433583e-02</td>\n",
       "      <td>-2.741871e-01</td>\n",
       "      <td>4.010308e-02</td>\n",
       "      <td>2.235804e-02</td>\n",
       "      <td>-5.142873e-02</td>\n",
       "      <td>...</td>\n",
       "      <td>-2.945017e-02</td>\n",
       "      <td>6.781943e-03</td>\n",
       "      <td>-1.119293e-02</td>\n",
       "      <td>4.097606e-02</td>\n",
       "      <td>1.659350e-02</td>\n",
       "      <td>-5.213911e-02</td>\n",
       "      <td>1.342146e-03</td>\n",
       "      <td>1.124383e-02</td>\n",
       "      <td>22.000000</td>\n",
       "      <td>0.000000</td>\n",
       "    </tr>\n",
       "    <tr>\n",
       "      <th>75%</th>\n",
       "      <td>139320.500000</td>\n",
       "      <td>1.315642e+00</td>\n",
       "      <td>8.037239e-01</td>\n",
       "      <td>1.027196e+00</td>\n",
       "      <td>7.433413e-01</td>\n",
       "      <td>6.119264e-01</td>\n",
       "      <td>3.985649e-01</td>\n",
       "      <td>5.704361e-01</td>\n",
       "      <td>3.273459e-01</td>\n",
       "      <td>5.971390e-01</td>\n",
       "      <td>...</td>\n",
       "      <td>1.863772e-01</td>\n",
       "      <td>5.285536e-01</td>\n",
       "      <td>1.476421e-01</td>\n",
       "      <td>4.395266e-01</td>\n",
       "      <td>3.507156e-01</td>\n",
       "      <td>2.409522e-01</td>\n",
       "      <td>9.104512e-02</td>\n",
       "      <td>7.827995e-02</td>\n",
       "      <td>77.165000</td>\n",
       "      <td>0.000000</td>\n",
       "    </tr>\n",
       "    <tr>\n",
       "      <th>max</th>\n",
       "      <td>172792.000000</td>\n",
       "      <td>2.454930e+00</td>\n",
       "      <td>2.205773e+01</td>\n",
       "      <td>9.382558e+00</td>\n",
       "      <td>1.687534e+01</td>\n",
       "      <td>3.480167e+01</td>\n",
       "      <td>7.330163e+01</td>\n",
       "      <td>1.205895e+02</td>\n",
       "      <td>2.000721e+01</td>\n",
       "      <td>1.559499e+01</td>\n",
       "      <td>...</td>\n",
       "      <td>2.720284e+01</td>\n",
       "      <td>1.050309e+01</td>\n",
       "      <td>2.252841e+01</td>\n",
       "      <td>4.584549e+00</td>\n",
       "      <td>7.519589e+00</td>\n",
       "      <td>3.517346e+00</td>\n",
       "      <td>3.161220e+01</td>\n",
       "      <td>3.384781e+01</td>\n",
       "      <td>25691.160000</td>\n",
       "      <td>1.000000</td>\n",
       "    </tr>\n",
       "  </tbody>\n",
       "</table>\n",
       "<p>8 rows × 31 columns</p>\n",
       "</div>"
      ],
      "text/plain": [
       "                Time            V1            V2            V3            V4  \\\n",
       "count  284807.000000  2.848070e+05  2.848070e+05  2.848070e+05  2.848070e+05   \n",
       "mean    94813.859575  1.758743e-12 -8.252298e-13 -9.636929e-13  8.316157e-13   \n",
       "std     47488.145955  1.958696e+00  1.651309e+00  1.516255e+00  1.415869e+00   \n",
       "min         0.000000 -5.640751e+01 -7.271573e+01 -4.832559e+01 -5.683171e+00   \n",
       "25%     54201.500000 -9.203734e-01 -5.985499e-01 -8.903648e-01 -8.486401e-01   \n",
       "50%     84692.000000  1.810880e-02  6.548556e-02  1.798463e-01 -1.984653e-02   \n",
       "75%    139320.500000  1.315642e+00  8.037239e-01  1.027196e+00  7.433413e-01   \n",
       "max    172792.000000  2.454930e+00  2.205773e+01  9.382558e+00  1.687534e+01   \n",
       "\n",
       "                 V5            V6            V7            V8            V9  \\\n",
       "count  2.848070e+05  2.848070e+05  2.848070e+05  2.848070e+05  2.848070e+05   \n",
       "mean   1.591952e-13  4.247354e-13 -3.050180e-13  8.693344e-14 -1.179712e-12   \n",
       "std    1.380247e+00  1.332271e+00  1.237094e+00  1.194353e+00  1.098632e+00   \n",
       "min   -1.137433e+02 -2.616051e+01 -4.355724e+01 -7.321672e+01 -1.343407e+01   \n",
       "25%   -6.915971e-01 -7.682956e-01 -5.540759e-01 -2.086297e-01 -6.430976e-01   \n",
       "50%   -5.433583e-02 -2.741871e-01  4.010308e-02  2.235804e-02 -5.142873e-02   \n",
       "75%    6.119264e-01  3.985649e-01  5.704361e-01  3.273459e-01  5.971390e-01   \n",
       "max    3.480167e+01  7.330163e+01  1.205895e+02  2.000721e+01  1.559499e+01   \n",
       "\n",
       "       ...           V21           V22           V23           V24  \\\n",
       "count  ...  2.848070e+05  2.848070e+05  2.848070e+05  2.848070e+05   \n",
       "mean   ... -3.406543e-13 -5.713163e-13 -9.725303e-13  1.464139e-12   \n",
       "std    ...  7.345240e-01  7.257016e-01  6.244603e-01  6.056471e-01   \n",
       "min    ... -3.483038e+01 -1.093314e+01 -4.480774e+01 -2.836627e+00   \n",
       "25%    ... -2.283949e-01 -5.423504e-01 -1.618463e-01 -3.545861e-01   \n",
       "50%    ... -2.945017e-02  6.781943e-03 -1.119293e-02  4.097606e-02   \n",
       "75%    ...  1.863772e-01  5.285536e-01  1.476421e-01  4.395266e-01   \n",
       "max    ...  2.720284e+01  1.050309e+01  2.252841e+01  4.584549e+00   \n",
       "\n",
       "                V25           V26           V27           V28         Amount  \\\n",
       "count  2.848070e+05  2.848070e+05  2.848070e+05  2.848070e+05  284807.000000   \n",
       "mean  -6.989087e-13 -5.615260e-13  3.332112e-12 -3.518886e-12      88.349619   \n",
       "std    5.212781e-01  4.822270e-01  4.036325e-01  3.300833e-01     250.120109   \n",
       "min   -1.029540e+01 -2.604551e+00 -2.256568e+01 -1.543008e+01       0.000000   \n",
       "25%   -3.171451e-01 -3.269839e-01 -7.083953e-02 -5.295979e-02       5.600000   \n",
       "50%    1.659350e-02 -5.213911e-02  1.342146e-03  1.124383e-02      22.000000   \n",
       "75%    3.507156e-01  2.409522e-01  9.104512e-02  7.827995e-02      77.165000   \n",
       "max    7.519589e+00  3.517346e+00  3.161220e+01  3.384781e+01   25691.160000   \n",
       "\n",
       "               Class  \n",
       "count  284807.000000  \n",
       "mean        0.001727  \n",
       "std         0.041527  \n",
       "min         0.000000  \n",
       "25%         0.000000  \n",
       "50%         0.000000  \n",
       "75%         0.000000  \n",
       "max         1.000000  \n",
       "\n",
       "[8 rows x 31 columns]"
      ]
     },
     "execution_count": 113,
     "metadata": {},
     "output_type": "execute_result"
    }
   ],
   "source": [
    "# Exploring the dataset \n",
    "df.describe()"
   ]
  },
  {
   "cell_type": "code",
   "execution_count": 114,
   "metadata": {},
   "outputs": [
    {
     "data": {
      "text/plain": [
       "284807"
      ]
     },
     "execution_count": 114,
     "metadata": {},
     "output_type": "execute_result"
    }
   ],
   "source": [
    "# Checking the dataset and looking for d\n",
    "df.isnull().count()\n",
    "df.duplicated().count()"
   ]
  },
  {
   "cell_type": "code",
   "execution_count": 115,
   "metadata": {},
   "outputs": [
    {
     "data": {
      "text/plain": [
       "Text(0, 0.5, 'Number of Features')"
      ]
     },
     "execution_count": 115,
     "metadata": {},
     "output_type": "execute_result"
    },
    {
     "data": {
      "image/png": "[encoded data removed]",
      "text/plain": [
       "<Figure size 360x360 with 1 Axes>"
      ]
     },
     "metadata": {
      "needs_background": "light"
     },
     "output_type": "display_data"
    }
   ],
   "source": [
    "plt.figure(figsize=(5,5))\n",
    "plt.hist(df[\"Class\"],bins=5, color=\"red\")\n",
    "plt.title(\"Histogram of Fraud and Normal\")\n",
    "plt.xlabel(\"Class\")\n",
    "plt.ylabel(\"Number of Features\")"
   ]
  },
  {
   "cell_type": "code",
   "execution_count": 116,
   "metadata": {},
   "outputs": [],
   "source": [
    "# Seperating the dataframe into 0 and 1\n",
    "new_df_zero=df.groupby(['Class']).get_group(0)\n",
    "new_df_one=df.groupby(['Class']).get_group(1)"
   ]
  },
  {
   "cell_type": "code",
   "execution_count": 117,
   "metadata": {},
   "outputs": [],
   "source": [
    "# Taking the sample size of 1000 from zero\n",
    "new_one=new_df_zero.sample(n=1000)"
   ]
  },
  {
   "cell_type": "code",
   "execution_count": 118,
   "metadata": {},
   "outputs": [],
   "source": [
    "# Combined the datasets\n",
    "result= pd.concat([new_df_one, new_one], axis=0)"
   ]
  },
  {
   "cell_type": "code",
   "execution_count": 119,
   "metadata": {},
   "outputs": [],
   "source": [
    "# Randomly selecting those 1000 datasets to check if our model works perfectly or not\n",
    "#result= result1.iloc[np.random.permutation(len(result1))]"
   ]
  },
  {
   "cell_type": "code",
   "execution_count": 120,
   "metadata": {},
   "outputs": [
    {
     "name": "stdout",
     "output_type": "stream",
     "text": [
      "Total Fradulent Cases:  492\n",
      "Total Non Fradulent Cases:  1000\n",
      "Dimension of the dataset: (1492, 31)\n",
      "List of features are:  Index(['Time', 'V1', 'V2', 'V3', 'V4', 'V5', 'V6', 'V7', 'V8', 'V9', 'V10',\n",
      "       'V11', 'V12', 'V13', 'V14', 'V15', 'V16', 'V17', 'V18', 'V19', 'V20',\n",
      "       'V21', 'V22', 'V23', 'V24', 'V25', 'V26', 'V27', 'V28', 'Amount',\n",
      "       'Class'],\n",
      "      dtype='object')\n"
     ]
    }
   ],
   "source": [
    "# Total number of faud and nomal transaction\n",
    "print(\"Total Fradulent Cases: \",len(result[result[\"Class\"]==1]))\n",
    "print(\"Total Non Fradulent Cases: \",len(result[result[\"Class\"]==0]))\n",
    "print(\"Dimension of the dataset:\",result.shape)\n",
    "print(\"List of features are: \", result.columns)"
   ]
  },
  {
   "cell_type": "code",
   "execution_count": 121,
   "metadata": {},
   "outputs": [
    {
     "data": {
      "text/plain": [
       "Text(0, 0.5, 'Number of Features')"
      ]
     },
     "execution_count": 121,
     "metadata": {},
     "output_type": "execute_result"
    },
    {
     "data": {
      "image/png": "[encoded data removed]",
      "text/plain": [
       "<Figure size 360x360 with 1 Axes>"
      ]
     },
     "metadata": {
      "needs_background": "light"
     },
     "output_type": "display_data"
    }
   ],
   "source": [
    "# Crating a histogram to check the number of fradulant and non fradulant cases\n",
    "import seaborn as sns\n",
    "import matplotlib.pylab as plt\n",
    "%matplotlib inline\n",
    "plt.figure(figsize=(5,5))\n",
    "plt.hist(result[\"Class\"],bins=5, color=\"teal\")\n",
    "plt.title(\"Histogram of Fraud and Normal\")\n",
    "plt.xlabel(\"Class\")\n",
    "plt.ylabel(\"Number of Features\")"
   ]
  },
  {
   "cell_type": "code",
   "execution_count": 122,
   "metadata": {},
   "outputs": [
    {
     "name": "stderr",
     "output_type": "stream",
     "text": [
      "C:\\Users\\Pookie\\Anaconda3\\lib\\site-packages\\pandas\\plotting\\_tools.py:307: MatplotlibDeprecationWarning: \n",
      "The rowNum attribute was deprecated in Matplotlib 3.2 and will be removed two minor releases later. Use ax.get_subplotspec().rowspan.start instead.\n",
      "  layout[ax.rowNum, ax.colNum] = ax.get_visible()\n",
      "C:\\Users\\Pookie\\Anaconda3\\lib\\site-packages\\pandas\\plotting\\_tools.py:307: MatplotlibDeprecationWarning: \n",
      "The colNum attribute was deprecated in Matplotlib 3.2 and will be removed two minor releases later. Use ax.get_subplotspec().colspan.start instead.\n",
      "  layout[ax.rowNum, ax.colNum] = ax.get_visible()\n",
      "C:\\Users\\Pookie\\Anaconda3\\lib\\site-packages\\pandas\\plotting\\_tools.py:313: MatplotlibDeprecationWarning: \n",
      "The rowNum attribute was deprecated in Matplotlib 3.2 and will be removed two minor releases later. Use ax.get_subplotspec().rowspan.start instead.\n",
      "  if not layout[ax.rowNum + 1, ax.colNum]:\n",
      "C:\\Users\\Pookie\\Anaconda3\\lib\\site-packages\\pandas\\plotting\\_tools.py:313: MatplotlibDeprecationWarning: \n",
      "The colNum attribute was deprecated in Matplotlib 3.2 and will be removed two minor releases later. Use ax.get_subplotspec().colspan.start instead.\n",
      "  if not layout[ax.rowNum + 1, ax.colNum]:\n"
     ]
    },
    {
     "data": {
      "image/png": "[encoded data removed]",
      "text/plain": [
       "<Figure size 1440x1440 with 36 Axes>"
      ]
     },
     "metadata": {
      "needs_background": "light"
     },
     "output_type": "display_data"
    }
   ],
   "source": [
    "#Create some visualizations to see the important features\n",
    "result.hist(figsize=(20,20),color='navajowhite')\n",
    "plt.show()"
   ]
  },
  {
   "cell_type": "markdown",
   "metadata": {},
   "source": [
    "# Principal Component Analysis (PCA)"
   ]
  },
  {
   "cell_type": "code",
   "execution_count": 123,
   "metadata": {},
   "outputs": [
    {
     "data": {
      "text/plain": [
       "<BarContainer object of 28 artists>"
      ]
     },
     "execution_count": 123,
     "metadata": {},
     "output_type": "execute_result"
    },
    {
     "data": {
      "image/png": "[encoded data removed]",
      "text/plain": [
       "<Figure size 432x288 with 1 Axes>"
      ]
     },
     "metadata": {
      "needs_background": "light"
     },
     "output_type": "display_data"
    }
   ],
   "source": [
    "from sklearn import datasets\n",
    "from sklearn.decomposition import PCA\n",
    "import numpy as np\n",
    "\n",
    "# Use Scikit to do PCA on dataset\n",
    "creditcard = ['V1', 'V2', 'V3', 'V4', 'V5', 'V6', 'V7', 'V8', 'V9', 'V10','V11', 'V12', 'V13', 'V14', 'V15', 'V16', 'V17', 'V18', 'V19', 'V20','V21', 'V22', 'V23', 'V24', 'V25', 'V26', 'V27', 'V28']\n",
    "x = df.loc[:, creditcard].values\n",
    "\n",
    "# Create a regular PCA model \n",
    "pca_all = PCA()\n",
    "\n",
    "# Fit and transform the data to the model with 28 categories\n",
    "reduced_data_pca = pca_all.fit_transform(x)\n",
    "\n",
    "# Inspect the shape\n",
    "reduced_data_pca.shape\n",
    "pca_all.explained_variance_ratio_\n",
    "plt.bar(np.arange(28),pca_all.explained_variance_ratio_)"
   ]
  },
  {
   "cell_type": "code",
   "execution_count": 124,
   "metadata": {},
   "outputs": [
    {
     "name": "stdout",
     "output_type": "stream",
     "text": [
      "The number of dimensions needed: 22\n"
     ]
    }
   ],
   "source": [
    "variance = 0\n",
    "for i, v in enumerate(pca_all.explained_variance_ratio_):\n",
    "    variance += v\n",
    "    if variance > 0.95:\n",
    "        break\n",
    "\n",
    "print('The number of dimensions needed:', i+1)"
   ]
  },
  {
   "cell_type": "markdown",
   "metadata": {},
   "source": [
    "# Machine Learning"
   ]
  },
  {
   "cell_type": "code",
   "execution_count": 125,
   "metadata": {},
   "outputs": [],
   "source": [
    "# Split datasets, one for training & test, and using scaler to scale the datasets\n",
    "from sklearn.model_selection import train_test_split\n",
    "from sklearn.preprocessing import StandardScaler\n",
    "scalar = StandardScaler()\n",
    "X = result.loc[:, result.columns != 'Class']\n",
    "Y = result['Class']\n",
    "X_train, X_test, y_train, y_test = train_test_split(X, Y, test_size=0.3, random_state=42)\n",
    "X_train_scale = scalar.fit_transform(X_train)\n",
    "X_test_scale = scalar.transform(X_test)"
   ]
  },
  {
   "cell_type": "code",
   "execution_count": 126,
   "metadata": {},
   "outputs": [
    {
     "name": "stderr",
     "output_type": "stream",
     "text": [
      "C:\\Users\\Pookie\\Anaconda3\\lib\\site-packages\\sklearn\\linear_model\\logistic.py:432: FutureWarning: Default solver will be changed to 'lbfgs' in 0.22. Specify a solver to silence this warning.\n",
      "  FutureWarning)\n"
     ]
    },
    {
     "data": {
      "text/plain": [
       "LogisticRegression(C=1.0, class_weight=None, dual=False, fit_intercept=True,\n",
       "                   intercept_scaling=1, l1_ratio=None, max_iter=100,\n",
       "                   multi_class='warn', n_jobs=None, penalty='l2',\n",
       "                   random_state=None, solver='warn', tol=0.0001, verbose=0,\n",
       "                   warm_start=False)"
      ]
     },
     "execution_count": 126,
     "metadata": {},
     "output_type": "execute_result"
    }
   ],
   "source": [
    "# Using Logistic regression\n",
    "from sklearn.linear_model import LogisticRegression\n",
    "logreg = LogisticRegression()\n",
    "logreg.fit(X_train_scale, y_train)"
   ]
  },
  {
   "cell_type": "code",
   "execution_count": 127,
   "metadata": {},
   "outputs": [
    {
     "name": "stdout",
     "output_type": "stream",
     "text": [
      "Training accuracy is  0.9549808429118773\n",
      "Testing accuracy is  0.9642857142857143\n"
     ]
    }
   ],
   "source": [
    "# Showing the training score. \n",
    "train_score = logreg.score(X_train_scale, y_train)\n",
    "print('Training accuracy is ', train_score)\n",
    "# Showing the testing score. \n",
    "test_score = logreg.score(X_test_scale, y_test)\n",
    "print('Testing accuracy is ', test_score)"
   ]
  },
  {
   "cell_type": "code",
   "execution_count": 128,
   "metadata": {},
   "outputs": [
    {
     "data": {
      "text/plain": [
       "array([0.8714291])"
      ]
     },
     "execution_count": 128,
     "metadata": {},
     "output_type": "execute_result"
    }
   ],
   "source": [
    "# Calculating the coefficient and intercept from above linear regression model\n",
    "logreg.coef_\n",
    "logreg.intercept_"
   ]
  },
  {
   "cell_type": "code",
   "execution_count": 129,
   "metadata": {},
   "outputs": [],
   "source": [
    "#Calculating the probability\n",
    "pred= logreg.predict(X_test_scale)\n",
    "prob= logreg.predict_proba(X_test_scale)"
   ]
  },
  {
   "cell_type": "code",
   "execution_count": 130,
   "metadata": {},
   "outputs": [
    {
     "data": {
      "text/html": [
       "<div>\n",
       "<style scoped>\n",
       "    .dataframe tbody tr th:only-of-type {\n",
       "        vertical-align: middle;\n",
       "    }\n",
       "\n",
       "    .dataframe tbody tr th {\n",
       "        vertical-align: top;\n",
       "    }\n",
       "\n",
       "    .dataframe thead th {\n",
       "        text-align: right;\n",
       "    }\n",
       "</style>\n",
       "<table border=\"1\" class=\"dataframe\">\n",
       "  <thead>\n",
       "    <tr style=\"text-align: right;\">\n",
       "      <th></th>\n",
       "      <th>0</th>\n",
       "      <th>1</th>\n",
       "      <th>pred</th>\n",
       "      <th>actual_Label</th>\n",
       "    </tr>\n",
       "  </thead>\n",
       "  <tbody>\n",
       "    <tr>\n",
       "      <th>0</th>\n",
       "      <td>7.252306e-01</td>\n",
       "      <td>0.274769</td>\n",
       "      <td>0</td>\n",
       "      <td>0</td>\n",
       "    </tr>\n",
       "    <tr>\n",
       "      <th>1</th>\n",
       "      <td>9.034541e-01</td>\n",
       "      <td>0.096546</td>\n",
       "      <td>0</td>\n",
       "      <td>0</td>\n",
       "    </tr>\n",
       "    <tr>\n",
       "      <th>2</th>\n",
       "      <td>9.920981e-01</td>\n",
       "      <td>0.007902</td>\n",
       "      <td>0</td>\n",
       "      <td>0</td>\n",
       "    </tr>\n",
       "    <tr>\n",
       "      <th>3</th>\n",
       "      <td>9.868474e-01</td>\n",
       "      <td>0.013153</td>\n",
       "      <td>0</td>\n",
       "      <td>0</td>\n",
       "    </tr>\n",
       "    <tr>\n",
       "      <th>4</th>\n",
       "      <td>9.482239e-01</td>\n",
       "      <td>0.051776</td>\n",
       "      <td>0</td>\n",
       "      <td>0</td>\n",
       "    </tr>\n",
       "    <tr>\n",
       "      <th>5</th>\n",
       "      <td>9.838515e-01</td>\n",
       "      <td>0.016148</td>\n",
       "      <td>0</td>\n",
       "      <td>0</td>\n",
       "    </tr>\n",
       "    <tr>\n",
       "      <th>6</th>\n",
       "      <td>2.253967e-02</td>\n",
       "      <td>0.977460</td>\n",
       "      <td>1</td>\n",
       "      <td>1</td>\n",
       "    </tr>\n",
       "    <tr>\n",
       "      <th>7</th>\n",
       "      <td>1.816991e-11</td>\n",
       "      <td>1.000000</td>\n",
       "      <td>1</td>\n",
       "      <td>1</td>\n",
       "    </tr>\n",
       "    <tr>\n",
       "      <th>8</th>\n",
       "      <td>1.488384e-07</td>\n",
       "      <td>1.000000</td>\n",
       "      <td>1</td>\n",
       "      <td>1</td>\n",
       "    </tr>\n",
       "    <tr>\n",
       "      <th>9</th>\n",
       "      <td>8.517854e-01</td>\n",
       "      <td>0.148215</td>\n",
       "      <td>0</td>\n",
       "      <td>1</td>\n",
       "    </tr>\n",
       "    <tr>\n",
       "      <th>10</th>\n",
       "      <td>9.935929e-01</td>\n",
       "      <td>0.006407</td>\n",
       "      <td>0</td>\n",
       "      <td>0</td>\n",
       "    </tr>\n",
       "    <tr>\n",
       "      <th>11</th>\n",
       "      <td>9.179984e-01</td>\n",
       "      <td>0.082002</td>\n",
       "      <td>0</td>\n",
       "      <td>0</td>\n",
       "    </tr>\n",
       "    <tr>\n",
       "      <th>12</th>\n",
       "      <td>9.373497e-01</td>\n",
       "      <td>0.062650</td>\n",
       "      <td>0</td>\n",
       "      <td>0</td>\n",
       "    </tr>\n",
       "    <tr>\n",
       "      <th>13</th>\n",
       "      <td>9.740348e-01</td>\n",
       "      <td>0.025965</td>\n",
       "      <td>0</td>\n",
       "      <td>0</td>\n",
       "    </tr>\n",
       "    <tr>\n",
       "      <th>14</th>\n",
       "      <td>1.995083e-04</td>\n",
       "      <td>0.999800</td>\n",
       "      <td>1</td>\n",
       "      <td>1</td>\n",
       "    </tr>\n",
       "    <tr>\n",
       "      <th>15</th>\n",
       "      <td>7.753090e-03</td>\n",
       "      <td>0.992247</td>\n",
       "      <td>1</td>\n",
       "      <td>1</td>\n",
       "    </tr>\n",
       "    <tr>\n",
       "      <th>16</th>\n",
       "      <td>9.998837e-01</td>\n",
       "      <td>0.000116</td>\n",
       "      <td>0</td>\n",
       "      <td>0</td>\n",
       "    </tr>\n",
       "    <tr>\n",
       "      <th>17</th>\n",
       "      <td>7.772641e-01</td>\n",
       "      <td>0.222736</td>\n",
       "      <td>0</td>\n",
       "      <td>1</td>\n",
       "    </tr>\n",
       "    <tr>\n",
       "      <th>18</th>\n",
       "      <td>9.653421e-01</td>\n",
       "      <td>0.034658</td>\n",
       "      <td>0</td>\n",
       "      <td>0</td>\n",
       "    </tr>\n",
       "    <tr>\n",
       "      <th>19</th>\n",
       "      <td>1.058265e-12</td>\n",
       "      <td>1.000000</td>\n",
       "      <td>1</td>\n",
       "      <td>1</td>\n",
       "    </tr>\n",
       "    <tr>\n",
       "      <th>20</th>\n",
       "      <td>3.264937e-07</td>\n",
       "      <td>1.000000</td>\n",
       "      <td>1</td>\n",
       "      <td>1</td>\n",
       "    </tr>\n",
       "    <tr>\n",
       "      <th>21</th>\n",
       "      <td>9.940978e-01</td>\n",
       "      <td>0.005902</td>\n",
       "      <td>0</td>\n",
       "      <td>0</td>\n",
       "    </tr>\n",
       "    <tr>\n",
       "      <th>22</th>\n",
       "      <td>2.862652e-07</td>\n",
       "      <td>1.000000</td>\n",
       "      <td>1</td>\n",
       "      <td>1</td>\n",
       "    </tr>\n",
       "    <tr>\n",
       "      <th>23</th>\n",
       "      <td>9.963738e-01</td>\n",
       "      <td>0.003626</td>\n",
       "      <td>0</td>\n",
       "      <td>0</td>\n",
       "    </tr>\n",
       "    <tr>\n",
       "      <th>24</th>\n",
       "      <td>2.898833e-01</td>\n",
       "      <td>0.710117</td>\n",
       "      <td>1</td>\n",
       "      <td>1</td>\n",
       "    </tr>\n",
       "    <tr>\n",
       "      <th>25</th>\n",
       "      <td>9.340547e-01</td>\n",
       "      <td>0.065945</td>\n",
       "      <td>0</td>\n",
       "      <td>0</td>\n",
       "    </tr>\n",
       "    <tr>\n",
       "      <th>26</th>\n",
       "      <td>9.669683e-01</td>\n",
       "      <td>0.033032</td>\n",
       "      <td>0</td>\n",
       "      <td>0</td>\n",
       "    </tr>\n",
       "    <tr>\n",
       "      <th>27</th>\n",
       "      <td>9.757907e-01</td>\n",
       "      <td>0.024209</td>\n",
       "      <td>0</td>\n",
       "      <td>0</td>\n",
       "    </tr>\n",
       "    <tr>\n",
       "      <th>28</th>\n",
       "      <td>9.243092e-01</td>\n",
       "      <td>0.075691</td>\n",
       "      <td>0</td>\n",
       "      <td>0</td>\n",
       "    </tr>\n",
       "    <tr>\n",
       "      <th>29</th>\n",
       "      <td>9.947954e-01</td>\n",
       "      <td>0.005205</td>\n",
       "      <td>0</td>\n",
       "      <td>0</td>\n",
       "    </tr>\n",
       "    <tr>\n",
       "      <th>...</th>\n",
       "      <td>...</td>\n",
       "      <td>...</td>\n",
       "      <td>...</td>\n",
       "      <td>...</td>\n",
       "    </tr>\n",
       "    <tr>\n",
       "      <th>418</th>\n",
       "      <td>9.856726e-01</td>\n",
       "      <td>0.014327</td>\n",
       "      <td>0</td>\n",
       "      <td>0</td>\n",
       "    </tr>\n",
       "    <tr>\n",
       "      <th>419</th>\n",
       "      <td>9.665332e-01</td>\n",
       "      <td>0.033467</td>\n",
       "      <td>0</td>\n",
       "      <td>0</td>\n",
       "    </tr>\n",
       "    <tr>\n",
       "      <th>420</th>\n",
       "      <td>6.501872e-01</td>\n",
       "      <td>0.349813</td>\n",
       "      <td>0</td>\n",
       "      <td>0</td>\n",
       "    </tr>\n",
       "    <tr>\n",
       "      <th>421</th>\n",
       "      <td>9.392611e-01</td>\n",
       "      <td>0.060739</td>\n",
       "      <td>0</td>\n",
       "      <td>0</td>\n",
       "    </tr>\n",
       "    <tr>\n",
       "      <th>422</th>\n",
       "      <td>9.923924e-04</td>\n",
       "      <td>0.999008</td>\n",
       "      <td>1</td>\n",
       "      <td>1</td>\n",
       "    </tr>\n",
       "    <tr>\n",
       "      <th>423</th>\n",
       "      <td>3.537647e-02</td>\n",
       "      <td>0.964624</td>\n",
       "      <td>1</td>\n",
       "      <td>1</td>\n",
       "    </tr>\n",
       "    <tr>\n",
       "      <th>424</th>\n",
       "      <td>8.702910e-01</td>\n",
       "      <td>0.129709</td>\n",
       "      <td>0</td>\n",
       "      <td>0</td>\n",
       "    </tr>\n",
       "    <tr>\n",
       "      <th>425</th>\n",
       "      <td>5.373180e-01</td>\n",
       "      <td>0.462682</td>\n",
       "      <td>0</td>\n",
       "      <td>0</td>\n",
       "    </tr>\n",
       "    <tr>\n",
       "      <th>426</th>\n",
       "      <td>2.876050e-08</td>\n",
       "      <td>1.000000</td>\n",
       "      <td>1</td>\n",
       "      <td>1</td>\n",
       "    </tr>\n",
       "    <tr>\n",
       "      <th>427</th>\n",
       "      <td>9.100456e-02</td>\n",
       "      <td>0.908995</td>\n",
       "      <td>1</td>\n",
       "      <td>1</td>\n",
       "    </tr>\n",
       "    <tr>\n",
       "      <th>428</th>\n",
       "      <td>2.586604e-04</td>\n",
       "      <td>0.999741</td>\n",
       "      <td>1</td>\n",
       "      <td>1</td>\n",
       "    </tr>\n",
       "    <tr>\n",
       "      <th>429</th>\n",
       "      <td>9.510270e-01</td>\n",
       "      <td>0.048973</td>\n",
       "      <td>0</td>\n",
       "      <td>0</td>\n",
       "    </tr>\n",
       "    <tr>\n",
       "      <th>430</th>\n",
       "      <td>7.998071e-01</td>\n",
       "      <td>0.200193</td>\n",
       "      <td>0</td>\n",
       "      <td>0</td>\n",
       "    </tr>\n",
       "    <tr>\n",
       "      <th>431</th>\n",
       "      <td>9.999781e-01</td>\n",
       "      <td>0.000022</td>\n",
       "      <td>0</td>\n",
       "      <td>0</td>\n",
       "    </tr>\n",
       "    <tr>\n",
       "      <th>432</th>\n",
       "      <td>4.323726e-01</td>\n",
       "      <td>0.567627</td>\n",
       "      <td>1</td>\n",
       "      <td>1</td>\n",
       "    </tr>\n",
       "    <tr>\n",
       "      <th>433</th>\n",
       "      <td>3.178617e-01</td>\n",
       "      <td>0.682138</td>\n",
       "      <td>1</td>\n",
       "      <td>1</td>\n",
       "    </tr>\n",
       "    <tr>\n",
       "      <th>434</th>\n",
       "      <td>9.651039e-01</td>\n",
       "      <td>0.034896</td>\n",
       "      <td>0</td>\n",
       "      <td>0</td>\n",
       "    </tr>\n",
       "    <tr>\n",
       "      <th>435</th>\n",
       "      <td>9.718874e-01</td>\n",
       "      <td>0.028113</td>\n",
       "      <td>0</td>\n",
       "      <td>0</td>\n",
       "    </tr>\n",
       "    <tr>\n",
       "      <th>436</th>\n",
       "      <td>9.664457e-01</td>\n",
       "      <td>0.033554</td>\n",
       "      <td>0</td>\n",
       "      <td>0</td>\n",
       "    </tr>\n",
       "    <tr>\n",
       "      <th>437</th>\n",
       "      <td>5.108940e-06</td>\n",
       "      <td>0.999995</td>\n",
       "      <td>1</td>\n",
       "      <td>1</td>\n",
       "    </tr>\n",
       "    <tr>\n",
       "      <th>438</th>\n",
       "      <td>9.587356e-01</td>\n",
       "      <td>0.041264</td>\n",
       "      <td>0</td>\n",
       "      <td>0</td>\n",
       "    </tr>\n",
       "    <tr>\n",
       "      <th>439</th>\n",
       "      <td>2.558992e-05</td>\n",
       "      <td>0.999974</td>\n",
       "      <td>1</td>\n",
       "      <td>1</td>\n",
       "    </tr>\n",
       "    <tr>\n",
       "      <th>440</th>\n",
       "      <td>9.840877e-01</td>\n",
       "      <td>0.015912</td>\n",
       "      <td>0</td>\n",
       "      <td>0</td>\n",
       "    </tr>\n",
       "    <tr>\n",
       "      <th>441</th>\n",
       "      <td>9.344991e-01</td>\n",
       "      <td>0.065501</td>\n",
       "      <td>0</td>\n",
       "      <td>0</td>\n",
       "    </tr>\n",
       "    <tr>\n",
       "      <th>442</th>\n",
       "      <td>9.859545e-01</td>\n",
       "      <td>0.014045</td>\n",
       "      <td>0</td>\n",
       "      <td>0</td>\n",
       "    </tr>\n",
       "    <tr>\n",
       "      <th>443</th>\n",
       "      <td>9.643529e-01</td>\n",
       "      <td>0.035647</td>\n",
       "      <td>0</td>\n",
       "      <td>0</td>\n",
       "    </tr>\n",
       "    <tr>\n",
       "      <th>444</th>\n",
       "      <td>9.931270e-01</td>\n",
       "      <td>0.006873</td>\n",
       "      <td>0</td>\n",
       "      <td>0</td>\n",
       "    </tr>\n",
       "    <tr>\n",
       "      <th>445</th>\n",
       "      <td>9.955564e-01</td>\n",
       "      <td>0.004444</td>\n",
       "      <td>0</td>\n",
       "      <td>0</td>\n",
       "    </tr>\n",
       "    <tr>\n",
       "      <th>446</th>\n",
       "      <td>3.717489e-01</td>\n",
       "      <td>0.628251</td>\n",
       "      <td>1</td>\n",
       "      <td>0</td>\n",
       "    </tr>\n",
       "    <tr>\n",
       "      <th>447</th>\n",
       "      <td>7.088539e-02</td>\n",
       "      <td>0.929115</td>\n",
       "      <td>1</td>\n",
       "      <td>1</td>\n",
       "    </tr>\n",
       "  </tbody>\n",
       "</table>\n",
       "<p>448 rows × 4 columns</p>\n",
       "</div>"
      ],
      "text/plain": [
       "                0         1  pred  actual_Label\n",
       "0    7.252306e-01  0.274769     0             0\n",
       "1    9.034541e-01  0.096546     0             0\n",
       "2    9.920981e-01  0.007902     0             0\n",
       "3    9.868474e-01  0.013153     0             0\n",
       "4    9.482239e-01  0.051776     0             0\n",
       "5    9.838515e-01  0.016148     0             0\n",
       "6    2.253967e-02  0.977460     1             1\n",
       "7    1.816991e-11  1.000000     1             1\n",
       "8    1.488384e-07  1.000000     1             1\n",
       "9    8.517854e-01  0.148215     0             1\n",
       "10   9.935929e-01  0.006407     0             0\n",
       "11   9.179984e-01  0.082002     0             0\n",
       "12   9.373497e-01  0.062650     0             0\n",
       "13   9.740348e-01  0.025965     0             0\n",
       "14   1.995083e-04  0.999800     1             1\n",
       "15   7.753090e-03  0.992247     1             1\n",
       "16   9.998837e-01  0.000116     0             0\n",
       "17   7.772641e-01  0.222736     0             1\n",
       "18   9.653421e-01  0.034658     0             0\n",
       "19   1.058265e-12  1.000000     1             1\n",
       "20   3.264937e-07  1.000000     1             1\n",
       "21   9.940978e-01  0.005902     0             0\n",
       "22   2.862652e-07  1.000000     1             1\n",
       "23   9.963738e-01  0.003626     0             0\n",
       "24   2.898833e-01  0.710117     1             1\n",
       "25   9.340547e-01  0.065945     0             0\n",
       "26   9.669683e-01  0.033032     0             0\n",
       "27   9.757907e-01  0.024209     0             0\n",
       "28   9.243092e-01  0.075691     0             0\n",
       "29   9.947954e-01  0.005205     0             0\n",
       "..            ...       ...   ...           ...\n",
       "418  9.856726e-01  0.014327     0             0\n",
       "419  9.665332e-01  0.033467     0             0\n",
       "420  6.501872e-01  0.349813     0             0\n",
       "421  9.392611e-01  0.060739     0             0\n",
       "422  9.923924e-04  0.999008     1             1\n",
       "423  3.537647e-02  0.964624     1             1\n",
       "424  8.702910e-01  0.129709     0             0\n",
       "425  5.373180e-01  0.462682     0             0\n",
       "426  2.876050e-08  1.000000     1             1\n",
       "427  9.100456e-02  0.908995     1             1\n",
       "428  2.586604e-04  0.999741     1             1\n",
       "429  9.510270e-01  0.048973     0             0\n",
       "430  7.998071e-01  0.200193     0             0\n",
       "431  9.999781e-01  0.000022     0             0\n",
       "432  4.323726e-01  0.567627     1             1\n",
       "433  3.178617e-01  0.682138     1             1\n",
       "434  9.651039e-01  0.034896     0             0\n",
       "435  9.718874e-01  0.028113     0             0\n",
       "436  9.664457e-01  0.033554     0             0\n",
       "437  5.108940e-06  0.999995     1             1\n",
       "438  9.587356e-01  0.041264     0             0\n",
       "439  2.558992e-05  0.999974     1             1\n",
       "440  9.840877e-01  0.015912     0             0\n",
       "441  9.344991e-01  0.065501     0             0\n",
       "442  9.859545e-01  0.014045     0             0\n",
       "443  9.643529e-01  0.035647     0             0\n",
       "444  9.931270e-01  0.006873     0             0\n",
       "445  9.955564e-01  0.004444     0             0\n",
       "446  3.717489e-01  0.628251     1             0\n",
       "447  7.088539e-02  0.929115     1             1\n",
       "\n",
       "[448 rows x 4 columns]"
      ]
     },
     "execution_count": 130,
     "metadata": {},
     "output_type": "execute_result"
    }
   ],
   "source": [
    "# Indentifying the actual labels from the prediction\n",
    "rel=pd.DataFrame(prob)\n",
    "rel[\"pred\"]= pred\n",
    "rel[\"actual_Label\"]= y_test.to_list()\n",
    "rel"
   ]
  },
  {
   "cell_type": "code",
   "execution_count": 131,
   "metadata": {},
   "outputs": [
    {
     "name": "stdout",
     "output_type": "stream",
     "text": [
      "[[296   5]\n",
      " [ 11 136]]\n",
      "              precision    recall  f1-score   support\n",
      "\n",
      "           0       0.96      0.98      0.97       301\n",
      "           1       0.96      0.93      0.94       147\n",
      "\n",
      "    accuracy                           0.96       448\n",
      "   macro avg       0.96      0.95      0.96       448\n",
      "weighted avg       0.96      0.96      0.96       448\n",
      "\n"
     ]
    }
   ],
   "source": [
    "# Calculating the recall, precision and F1 Score\n",
    "from sklearn.metrics import classification_report, confusion_matrix\n",
    "# Creating the confusion Matrix\n",
    "print(confusion_matrix(y_test, pred))\n",
    "# Creating the classification report\n",
    "print(classification_report(y_test, pred))"
   ]
  },
  {
   "cell_type": "code",
   "execution_count": 132,
   "metadata": {},
   "outputs": [
    {
     "data": {
      "text/plain": [
       "Text(0, 0.5, 'True positive rate')"
      ]
     },
     "execution_count": 132,
     "metadata": {},
     "output_type": "execute_result"
    },
    {
     "data": {
      "image/png": "[encoded data removed]",
      "text/plain": [
       "<Figure size 432x288 with 1 Axes>"
      ]
     },
     "metadata": {
      "needs_background": "light"
     },
     "output_type": "display_data"
    }
   ],
   "source": [
    "#Plotting the RoC Curve\n",
    "from sklearn import metrics\n",
    "fpr,tpr,thre= metrics.roc_curve(y_test, prob[:,1])\n",
    "plt.plot(fpr, tpr)\n",
    "\n",
    "# Calculate the area under the curve\n",
    "metrics.auc(fpr,tpr)\n",
    "plt.plot([0,1], [0,1], 'k--')\n",
    "plt.title('ROC curve')\n",
    "plt.xlabel('False positive rate')\n",
    "plt.ylabel('True positive rate')\n",
    "\n",
    "# Higher the AUC, better the model is at predicting 0s as 0s and 1s as 1s."
   ]
  },
  {
   "cell_type": "code",
   "execution_count": 133,
   "metadata": {},
   "outputs": [
    {
     "data": {
      "text/plain": [
       "[<matplotlib.lines.Line2D at 0x2432660af98>]"
      ]
     },
     "execution_count": 133,
     "metadata": {},
     "output_type": "execute_result"
    },
    {
     "data": {
      "image/png": "[encoded data removed]",
      "text/plain": [
       "<Figure size 432x288 with 1 Axes>"
      ]
     },
     "metadata": {
      "needs_background": "light"
     },
     "output_type": "display_data"
    }
   ],
   "source": [
    "#Calculating the probability\n",
    "import numpy as np\n",
    "pred= logreg.predict(X_test_scale)\n",
    "prob= logreg.predict_proba(X_test_scale)\n",
    "\n",
    "# Calculate the precision and recall\n",
    "\n",
    "from sklearn import metrics\n",
    "threshold= np.linspace(0,0.9,100)\n",
    "precision_list= []\n",
    "recall_list=[]\n",
    "for i in threshold:\n",
    "    my_pred = prob[:,1]>=i\n",
    "    precision_list.append(metrics.precision_score(y_test, my_pred))\n",
    "    recall_list.append(metrics.recall_score(y_test, my_pred))\n",
    "plt.plot(threshold, precision_list)\n",
    "plt.plot(threshold, recall_list, c=\"r\")\n"
   ]
  },
  {
   "cell_type": "markdown",
   "metadata": {},
   "source": [
    "## Deep Neural Networks\n",
    "Using Keras, build a DNN that has better accuracy than LR. What is the accuracy, precision and recall and F1 score for the training and the test data? Plot the ROC curve?"
   ]
  },
  {
   "cell_type": "code",
   "execution_count": 134,
   "metadata": {},
   "outputs": [],
   "source": [
    "# Loading the dataset\n",
    "X = result.loc[:, result.columns != 'Class']\n",
    "Y = result['Class']"
   ]
  },
  {
   "cell_type": "code",
   "execution_count": 135,
   "metadata": {},
   "outputs": [
    {
     "data": {
      "text/plain": [
       "(1492, 30)"
      ]
     },
     "execution_count": 135,
     "metadata": {},
     "output_type": "execute_result"
    }
   ],
   "source": [
    "# Using normalization in the dataset\n",
    "import tensorflow as tf\n",
    "train_set_x=tf.keras.utils.normalize(X, axis=1)\n",
    "train_set_x.shape"
   ]
  },
  {
   "cell_type": "code",
   "execution_count": 136,
   "metadata": {},
   "outputs": [],
   "source": [
    "# Using tensflow to build a model using various hidden layers\n",
    "from tensorflow.keras import models, layers, regularizers\n",
    "model = models.Sequential()\n",
    "model.add(layers.Dense(200, activation='relu', input_dim=30)) # Since we have 30 features we will get input_dim=30\n",
    "model.add(layers.Dense(120, activation = 'relu', kernel_initializer='uniform'))\n",
    "model.add(layers.Dropout(0.5))\n",
    "model.add(layers.Dense(55, activation = 'relu', kernel_initializer='uniform'))\n",
    "model.add(layers.Dropout(0.5))\n",
    "model.add(layers.Dense(1, kernel_initializer='uniform', activation = 'sigmoid'))"
   ]
  },
  {
   "cell_type": "code",
   "execution_count": 137,
   "metadata": {},
   "outputs": [],
   "source": [
    "model.compile(loss='binary_crossentropy', optimizer = tf.keras.optimizers.Adam(lr=0.001), metrics=['accuracy'])"
   ]
  },
  {
   "cell_type": "code",
   "execution_count": 138,
   "metadata": {},
   "outputs": [
    {
     "name": "stdout",
     "output_type": "stream",
     "text": [
      "WARNING:tensorflow:Falling back from v2 loop because of error: Failed to find data adapter that can handle input: <class 'pandas.core.frame.DataFrame'>, <class 'NoneType'>\n",
      "Train on 1492 samples\n",
      "Epoch 1/200\n",
      "1492/1492 [==============================] - 3s 2ms/sample - loss: 0.6741 - accuracy: 0.6702\n",
      "Epoch 2/200\n",
      "1492/1492 [==============================] - 0s 169us/sample - loss: 0.6339 - accuracy: 0.6702\n",
      "Epoch 3/200\n",
      "1492/1492 [==============================] - 0s 171us/sample - loss: 0.6366 - accuracy: 0.6702\n",
      "Epoch 4/200\n",
      "1492/1492 [==============================] - 0s 174us/sample - loss: 0.6358 - accuracy: 0.6702\n",
      "Epoch 5/200\n",
      "1492/1492 [==============================] - 0s 166us/sample - loss: 0.6315 - accuracy: 0.6702\n",
      "Epoch 6/200\n",
      "1492/1492 [==============================] - 0s 172us/sample - loss: 0.6415 - accuracy: 0.6702\n",
      "Epoch 7/200\n",
      "1492/1492 [==============================] - 0s 112us/sample - loss: 0.6403 - accuracy: 0.6702\n",
      "Epoch 8/200\n",
      "1492/1492 [==============================] - 0s 90us/sample - loss: 0.6373 - accuracy: 0.6702\n",
      "Epoch 9/200\n",
      "1492/1492 [==============================] - 0s 88us/sample - loss: 0.6374 - accuracy: 0.6702\n",
      "Epoch 10/200\n",
      "1492/1492 [==============================] - 0s 78us/sample - loss: 0.6385 - accuracy: 0.6702\n",
      "Epoch 11/200\n",
      "1492/1492 [==============================] - 0s 92us/sample - loss: 0.6341 - accuracy: 0.6702\n",
      "Epoch 12/200\n",
      "1492/1492 [==============================] - 0s 91us/sample - loss: 0.6390 - accuracy: 0.6702\n",
      "Epoch 13/200\n",
      "1492/1492 [==============================] - 0s 96us/sample - loss: 0.6338 - accuracy: 0.6702\n",
      "Epoch 14/200\n",
      "1492/1492 [==============================] - 0s 93us/sample - loss: 0.6371 - accuracy: 0.6702\n",
      "Epoch 15/200\n",
      "1492/1492 [==============================] - 0s 93us/sample - loss: 0.6355 - accuracy: 0.6702\n",
      "Epoch 16/200\n",
      "1492/1492 [==============================] - 0s 93us/sample - loss: 0.6379 - accuracy: 0.6702\n",
      "Epoch 17/200\n",
      "1492/1492 [==============================] - 0s 94us/sample - loss: 0.6381 - accuracy: 0.6702\n",
      "Epoch 18/200\n",
      "1492/1492 [==============================] - 0s 92us/sample - loss: 0.6412 - accuracy: 0.6702\n",
      "Epoch 19/200\n",
      "1492/1492 [==============================] - 0s 92us/sample - loss: 0.6351 - accuracy: 0.6702\n",
      "Epoch 20/200\n",
      "1492/1492 [==============================] - 0s 93us/sample - loss: 0.6370 - accuracy: 0.6702\n",
      "Epoch 21/200\n",
      "1492/1492 [==============================] - 0s 96us/sample - loss: 0.6365 - accuracy: 0.6702\n",
      "Epoch 22/200\n",
      "1492/1492 [==============================] - 0s 125us/sample - loss: 0.6377 - accuracy: 0.6702\n",
      "Epoch 23/200\n",
      "1492/1492 [==============================] - 0s 148us/sample - loss: 0.6358 - accuracy: 0.6702\n",
      "Epoch 24/200\n",
      "1492/1492 [==============================] - 0s 141us/sample - loss: 0.6343 - accuracy: 0.6702\n",
      "Epoch 25/200\n",
      "1492/1492 [==============================] - 0s 142us/sample - loss: 0.6349 - accuracy: 0.6702\n",
      "Epoch 26/200\n",
      "1492/1492 [==============================] - 0s 142us/sample - loss: 0.6363 - accuracy: 0.6702\n",
      "Epoch 27/200\n",
      "1492/1492 [==============================] - 0s 92us/sample - loss: 0.6364 - accuracy: 0.6702\n",
      "Epoch 28/200\n",
      "1492/1492 [==============================] - 0s 91us/sample - loss: 0.6378 - accuracy: 0.6702\n",
      "Epoch 29/200\n",
      "1492/1492 [==============================] - 0s 94us/sample - loss: 0.6343 - accuracy: 0.6702\n",
      "Epoch 30/200\n",
      "1492/1492 [==============================] - 0s 92us/sample - loss: 0.6327 - accuracy: 0.6702\n",
      "Epoch 31/200\n",
      "1492/1492 [==============================] - 0s 92us/sample - loss: 0.6385 - accuracy: 0.6702\n",
      "Epoch 32/200\n",
      "1492/1492 [==============================] - 0s 90us/sample - loss: 0.6359 - accuracy: 0.6702\n",
      "Epoch 33/200\n",
      "1492/1492 [==============================] - 0s 95us/sample - loss: 0.6343 - accuracy: 0.6702\n",
      "Epoch 34/200\n",
      "1492/1492 [==============================] - 0s 93us/sample - loss: 0.6338 - accuracy: 0.6702\n",
      "Epoch 35/200\n",
      "1492/1492 [==============================] - 0s 91us/sample - loss: 0.6356 - accuracy: 0.6702\n",
      "Epoch 36/200\n",
      "1492/1492 [==============================] - 0s 94us/sample - loss: 0.6298 - accuracy: 0.6702\n",
      "Epoch 37/200\n",
      "1492/1492 [==============================] - 0s 92us/sample - loss: 0.6319 - accuracy: 0.6702\n",
      "Epoch 38/200\n",
      "1492/1492 [==============================] - 0s 87us/sample - loss: 0.6335 - accuracy: 0.6702\n",
      "Epoch 39/200\n",
      "1492/1492 [==============================] - 0s 94us/sample - loss: 0.6330 - accuracy: 0.6702\n",
      "Epoch 40/200\n",
      "1492/1492 [==============================] - 0s 96us/sample - loss: 0.6325 - accuracy: 0.6702\n",
      "Epoch 41/200\n",
      "1492/1492 [==============================] - 0s 90us/sample - loss: 0.6274 - accuracy: 0.6702\n",
      "Epoch 42/200\n",
      "1492/1492 [==============================] - 0s 103us/sample - loss: 0.6303 - accuracy: 0.6702\n",
      "Epoch 43/200\n",
      "1492/1492 [==============================] - 0s 100us/sample - loss: 0.6274 - accuracy: 0.6702\n",
      "Epoch 44/200\n",
      "1492/1492 [==============================] - ETA: 0s - loss: 0.6258 - accuracy: 0.67 - 0s 93us/sample - loss: 0.6299 - accuracy: 0.6702\n",
      "Epoch 45/200\n",
      "1492/1492 [==============================] - 0s 89us/sample - loss: 0.6170 - accuracy: 0.6709\n",
      "Epoch 46/200\n",
      "1492/1492 [==============================] - 0s 79us/sample - loss: 0.6136 - accuracy: 0.6736\n",
      "Epoch 47/200\n",
      "1492/1492 [==============================] - 0s 88us/sample - loss: 0.6048 - accuracy: 0.6964\n",
      "Epoch 48/200\n",
      "1492/1492 [==============================] - 0s 94us/sample - loss: 0.6090 - accuracy: 0.6971\n",
      "Epoch 49/200\n",
      "1492/1492 [==============================] - 0s 109us/sample - loss: 0.5859 - accuracy: 0.7131\n",
      "Epoch 50/200\n",
      "1492/1492 [==============================] - 0s 89us/sample - loss: 0.5760 - accuracy: 0.7212\n",
      "Epoch 51/200\n",
      "1492/1492 [==============================] - 0s 92us/sample - loss: 0.5712 - accuracy: 0.7393\n",
      "Epoch 52/200\n",
      "1492/1492 [==============================] - 0s 90us/sample - loss: 0.5532 - accuracy: 0.7540\n",
      "Epoch 53/200\n",
      "1492/1492 [==============================] - 0s 96us/sample - loss: 0.5345 - accuracy: 0.7614\n",
      "Epoch 54/200\n",
      "1492/1492 [==============================] - 0s 92us/sample - loss: 0.5184 - accuracy: 0.7688\n",
      "Epoch 55/200\n",
      "1492/1492 [==============================] - 0s 95us/sample - loss: 0.5512 - accuracy: 0.7453\n",
      "Epoch 56/200\n",
      "1492/1492 [==============================] - 0s 134us/sample - loss: 0.5497 - accuracy: 0.7601\n",
      "Epoch 57/200\n",
      "1492/1492 [==============================] - 0s 158us/sample - loss: 0.5149 - accuracy: 0.7808\n",
      "Epoch 58/200\n",
      "1492/1492 [==============================] - 0s 162us/sample - loss: 0.4943 - accuracy: 0.7869\n",
      "Epoch 59/200\n",
      "1492/1492 [==============================] - 0s 152us/sample - loss: 0.4714 - accuracy: 0.8003\n",
      "Epoch 60/200\n",
      "1492/1492 [==============================] - 0s 144us/sample - loss: 0.4547 - accuracy: 0.8237\n",
      "Epoch 61/200\n",
      "1492/1492 [==============================] - 0s 143us/sample - loss: 0.4323 - accuracy: 0.8264\n",
      "Epoch 62/200\n",
      "1492/1492 [==============================] - 0s 144us/sample - loss: 0.4505 - accuracy: 0.8117\n",
      "Epoch 63/200\n",
      "1492/1492 [==============================] - 0s 154us/sample - loss: 0.3937 - accuracy: 0.8492\n",
      "Epoch 64/200\n",
      "1492/1492 [==============================] - 0s 84us/sample - loss: 0.4431 - accuracy: 0.8190\n",
      "Epoch 65/200\n",
      "1492/1492 [==============================] - 0s 85us/sample - loss: 0.3686 - accuracy: 0.8546\n",
      "Epoch 66/200\n",
      "1492/1492 [==============================] - 0s 97us/sample - loss: 0.4296 - accuracy: 0.8291\n",
      "Epoch 67/200\n",
      "1492/1492 [==============================] - 0s 96us/sample - loss: 0.3959 - accuracy: 0.8505\n",
      "Epoch 68/200\n",
      "1492/1492 [==============================] - 0s 100us/sample - loss: 0.3591 - accuracy: 0.8586\n",
      "Epoch 69/200\n",
      "1492/1492 [==============================] - 0s 93us/sample - loss: 0.3668 - accuracy: 0.8619\n",
      "Epoch 70/200\n",
      "1492/1492 [==============================] - 0s 93us/sample - loss: 0.3417 - accuracy: 0.8773\n",
      "Epoch 71/200\n",
      "1492/1492 [==============================] - 0s 92us/sample - loss: 0.3868 - accuracy: 0.8445\n",
      "Epoch 72/200\n",
      "1492/1492 [==============================] - 0s 97us/sample - loss: 0.4363 - accuracy: 0.8358\n",
      "Epoch 73/200\n",
      "1492/1492 [==============================] - 0s 91us/sample - loss: 0.3460 - accuracy: 0.8693\n",
      "Epoch 74/200\n",
      "1492/1492 [==============================] - 0s 94us/sample - loss: 0.3958 - accuracy: 0.8532\n",
      "Epoch 75/200\n"
     ]
    },
    {
     "name": "stdout",
     "output_type": "stream",
     "text": [
      "1492/1492 [==============================] - 0s 97us/sample - loss: 0.4801 - accuracy: 0.8023\n",
      "Epoch 76/200\n",
      "1492/1492 [==============================] - 0s 108us/sample - loss: 0.3992 - accuracy: 0.8505\n",
      "Epoch 77/200\n",
      "1492/1492 [==============================] - 0s 96us/sample - loss: 0.3404 - accuracy: 0.8800\n",
      "Epoch 78/200\n",
      "1492/1492 [==============================] - 0s 99us/sample - loss: 0.3363 - accuracy: 0.8780\n",
      "Epoch 79/200\n",
      "1492/1492 [==============================] - 0s 98us/sample - loss: 0.3071 - accuracy: 0.9008\n",
      "Epoch 80/200\n",
      "1492/1492 [==============================] - 0s 82us/sample - loss: 0.3021 - accuracy: 0.9008\n",
      "Epoch 81/200\n",
      "1492/1492 [==============================] - 0s 85us/sample - loss: 0.3690 - accuracy: 0.8660\n",
      "Epoch 82/200\n",
      "1492/1492 [==============================] - 0s 87us/sample - loss: 0.5043 - accuracy: 0.8083\n",
      "Epoch 83/200\n",
      "1492/1492 [==============================] - 0s 85us/sample - loss: 0.3548 - accuracy: 0.8820\n",
      "Epoch 84/200\n",
      "1492/1492 [==============================] - 0s 114us/sample - loss: 0.3142 - accuracy: 0.8948\n",
      "Epoch 85/200\n",
      "1492/1492 [==============================] - 0s 120us/sample - loss: 0.3564 - accuracy: 0.8633\n",
      "Epoch 86/200\n",
      "1492/1492 [==============================] - 0s 118us/sample - loss: 0.3297 - accuracy: 0.8760\n",
      "Epoch 87/200\n",
      "1492/1492 [==============================] - 0s 117us/sample - loss: 0.3054 - accuracy: 0.8914\n",
      "Epoch 88/200\n",
      "1492/1492 [==============================] - 0s 120us/sample - loss: 0.3282 - accuracy: 0.8780\n",
      "Epoch 89/200\n",
      "1492/1492 [==============================] - 0s 112us/sample - loss: 0.4121 - accuracy: 0.8412\n",
      "Epoch 90/200\n",
      "1492/1492 [==============================] - 0s 116us/sample - loss: 0.3285 - accuracy: 0.8861\n",
      "Epoch 91/200\n",
      "1492/1492 [==============================] - 0s 118us/sample - loss: 0.3192 - accuracy: 0.8840\n",
      "Epoch 92/200\n",
      "1492/1492 [==============================] - 0s 117us/sample - loss: 0.2905 - accuracy: 0.9075\n",
      "Epoch 93/200\n",
      "1492/1492 [==============================] - 0s 117us/sample - loss: 0.2847 - accuracy: 0.9109\n",
      "Epoch 94/200\n",
      "1492/1492 [==============================] - 0s 114us/sample - loss: 0.4706 - accuracy: 0.8204\n",
      "Epoch 95/200\n",
      "1492/1492 [==============================] - 0s 116us/sample - loss: 0.3194 - accuracy: 0.8934\n",
      "Epoch 96/200\n",
      "1492/1492 [==============================] - 0s 118us/sample - loss: 0.2848 - accuracy: 0.9088\n",
      "Epoch 97/200\n",
      "1492/1492 [==============================] - 0s 116us/sample - loss: 0.2628 - accuracy: 0.9149\n",
      "Epoch 98/200\n",
      "1492/1492 [==============================] - 0s 113us/sample - loss: 0.2734 - accuracy: 0.9055\n",
      "Epoch 99/200\n",
      "1492/1492 [==============================] - 0s 124us/sample - loss: 0.2854 - accuracy: 0.8934\n",
      "Epoch 100/200\n",
      "1492/1492 [==============================] - 0s 114us/sample - loss: 0.5772 - accuracy: 0.7949\n",
      "Epoch 101/200\n",
      "1492/1492 [==============================] - 0s 123us/sample - loss: 0.3766 - accuracy: 0.8666\n",
      "Epoch 102/200\n",
      "1492/1492 [==============================] - 0s 118us/sample - loss: 0.3106 - accuracy: 0.8934\n",
      "Epoch 103/200\n",
      "1492/1492 [==============================] - 0s 115us/sample - loss: 0.3608 - accuracy: 0.8499\n",
      "Epoch 104/200\n",
      "1492/1492 [==============================] - 0s 119us/sample - loss: 0.4100 - accuracy: 0.8505\n",
      "Epoch 105/200\n",
      "1492/1492 [==============================] - 0s 117us/sample - loss: 0.2908 - accuracy: 0.9109\n",
      "Epoch 106/200\n",
      "1492/1492 [==============================] - 0s 123us/sample - loss: 0.2978 - accuracy: 0.8941\n",
      "Epoch 107/200\n",
      "1492/1492 [==============================] - 0s 126us/sample - loss: 0.2935 - accuracy: 0.8975\n",
      "Epoch 108/200\n",
      "1492/1492 [==============================] - 0s 135us/sample - loss: 0.2556 - accuracy: 0.9196\n",
      "Epoch 109/200\n",
      "1492/1492 [==============================] - 0s 103us/sample - loss: 0.2512 - accuracy: 0.9216\n",
      "Epoch 110/200\n",
      "1492/1492 [==============================] - 0s 92us/sample - loss: 0.4955 - accuracy: 0.8338\n",
      "Epoch 111/200\n",
      "1492/1492 [==============================] - 0s 91us/sample - loss: 0.3430 - accuracy: 0.8720\n",
      "Epoch 112/200\n",
      "1492/1492 [==============================] - 0s 90us/sample - loss: 0.2657 - accuracy: 0.9243\n",
      "Epoch 113/200\n",
      "1492/1492 [==============================] - 0s 86us/sample - loss: 0.2472 - accuracy: 0.9243\n",
      "Epoch 114/200\n",
      "1492/1492 [==============================] - 0s 92us/sample - loss: 0.3251 - accuracy: 0.8854\n",
      "Epoch 115/200\n",
      "1492/1492 [==============================] - 0s 87us/sample - loss: 0.4410 - accuracy: 0.8391\n",
      "Epoch 116/200\n",
      "1492/1492 [==============================] - 0s 88us/sample - loss: 0.2660 - accuracy: 0.9216\n",
      "Epoch 117/200\n",
      "1492/1492 [==============================] - 0s 88us/sample - loss: 0.2488 - accuracy: 0.9216\n",
      "Epoch 118/200\n",
      "1492/1492 [==============================] - 0s 88us/sample - loss: 0.3355 - accuracy: 0.8827\n",
      "Epoch 119/200\n",
      "1492/1492 [==============================] - 0s 90us/sample - loss: 0.5806 - accuracy: 0.7802\n",
      "Epoch 120/200\n",
      "1492/1492 [==============================] - 0s 92us/sample - loss: 0.3341 - accuracy: 0.9042\n",
      "Epoch 121/200\n",
      "1492/1492 [==============================] - 0s 86us/sample - loss: 0.2876 - accuracy: 0.9149\n",
      "Epoch 122/200\n",
      "1492/1492 [==============================] - 0s 90us/sample - loss: 0.2452 - accuracy: 0.9283\n",
      "Epoch 123/200\n",
      "1492/1492 [==============================] - 0s 87us/sample - loss: 0.2861 - accuracy: 0.9055\n",
      "Epoch 124/200\n",
      "1492/1492 [==============================] - 0s 89us/sample - loss: 0.2795 - accuracy: 0.9102\n",
      "Epoch 125/200\n",
      "1492/1492 [==============================] - 0s 88us/sample - loss: 0.2400 - accuracy: 0.9209\n",
      "Epoch 126/200\n",
      "1492/1492 [==============================] - 0s 90us/sample - loss: 0.2449 - accuracy: 0.9149\n",
      "Epoch 127/200\n",
      "1492/1492 [==============================] - 0s 90us/sample - loss: 0.2879 - accuracy: 0.8948\n",
      "Epoch 128/200\n",
      "1492/1492 [==============================] - 0s 88us/sample - loss: 0.6089 - accuracy: 0.8009\n",
      "Epoch 129/200\n",
      "1492/1492 [==============================] - 0s 92us/sample - loss: 0.3048 - accuracy: 0.9055\n",
      "Epoch 130/200\n",
      "1492/1492 [==============================] - 0s 88us/sample - loss: 0.2609 - accuracy: 0.9269\n",
      "Epoch 131/200\n",
      "1492/1492 [==============================] - 0s 88us/sample - loss: 0.3486 - accuracy: 0.8660\n",
      "Epoch 132/200\n",
      "1492/1492 [==============================] - 0s 86us/sample - loss: 0.3191 - accuracy: 0.8847\n",
      "Epoch 133/200\n",
      "1492/1492 [==============================] - 0s 88us/sample - loss: 0.2489 - accuracy: 0.9236\n",
      "Epoch 134/200\n",
      "1492/1492 [==============================] - 0s 88us/sample - loss: 0.3759 - accuracy: 0.8653\n",
      "Epoch 135/200\n",
      "1492/1492 [==============================] - 0s 88us/sample - loss: 0.2478 - accuracy: 0.9316\n",
      "Epoch 136/200\n",
      "1492/1492 [==============================] - 0s 90us/sample - loss: 0.2166 - accuracy: 0.9370\n",
      "Epoch 137/200\n",
      "1492/1492 [==============================] - 0s 86us/sample - loss: 0.2661 - accuracy: 0.9135\n",
      "Epoch 138/200\n",
      "1492/1492 [==============================] - 0s 88us/sample - loss: 0.3877 - accuracy: 0.8592\n",
      "Epoch 139/200\n",
      "1492/1492 [==============================] - 0s 92us/sample - loss: 0.3228 - accuracy: 0.8854\n",
      "Epoch 140/200\n",
      "1492/1492 [==============================] - 0s 91us/sample - loss: 0.4828 - accuracy: 0.8063\n",
      "Epoch 141/200\n",
      "1492/1492 [==============================] - 0s 88us/sample - loss: 0.3793 - accuracy: 0.8546\n",
      "Epoch 142/200\n",
      "1492/1492 [==============================] - 0s 90us/sample - loss: 0.2586 - accuracy: 0.9296\n",
      "Epoch 143/200\n",
      "1492/1492 [==============================] - 0s 91us/sample - loss: 0.2341 - accuracy: 0.9350\n",
      "Epoch 144/200\n",
      "1492/1492 [==============================] - 0s 93us/sample - loss: 0.2562 - accuracy: 0.9182\n",
      "Epoch 145/200\n",
      "1492/1492 [==============================] - 0s 91us/sample - loss: 0.2681 - accuracy: 0.9102\n",
      "Epoch 146/200\n",
      "1492/1492 [==============================] - 0s 90us/sample - loss: 0.2302 - accuracy: 0.9296\n",
      "Epoch 147/200\n",
      "1492/1492 [==============================] - 0s 88us/sample - loss: 0.2688 - accuracy: 0.9082\n",
      "Epoch 148/200\n",
      "1492/1492 [==============================] - 0s 105us/sample - loss: 0.2437 - accuracy: 0.9236\n",
      "Epoch 149/200\n",
      "1492/1492 [==============================] - 0s 94us/sample - loss: 0.2514 - accuracy: 0.9249\n",
      "Epoch 150/200\n",
      "1492/1492 [==============================] - 0s 96us/sample - loss: 0.2298 - accuracy: 0.9249\n"
     ]
    },
    {
     "name": "stdout",
     "output_type": "stream",
     "text": [
      "Epoch 151/200\n",
      "1492/1492 [==============================] - 0s 96us/sample - loss: 0.5845 - accuracy: 0.7936\n",
      "Epoch 152/200\n",
      "1492/1492 [==============================] - 0s 85us/sample - loss: 0.3946 - accuracy: 0.8499\n",
      "Epoch 153/200\n",
      "1492/1492 [==============================] - 0s 86us/sample - loss: 0.2889 - accuracy: 0.9155\n",
      "Epoch 154/200\n",
      "1492/1492 [==============================] - 0s 87us/sample - loss: 0.2426 - accuracy: 0.9336\n",
      "Epoch 155/200\n",
      "1492/1492 [==============================] - 0s 86us/sample - loss: 0.3469 - accuracy: 0.8794\n",
      "Epoch 156/200\n",
      "1492/1492 [==============================] - 0s 86us/sample - loss: 0.3223 - accuracy: 0.8921\n",
      "Epoch 157/200\n",
      "1492/1492 [==============================] - 0s 87us/sample - loss: 0.3634 - accuracy: 0.8599\n",
      "Epoch 158/200\n",
      "1492/1492 [==============================] - 0s 92us/sample - loss: 0.2753 - accuracy: 0.9075\n",
      "Epoch 159/200\n",
      "1492/1492 [==============================] - 0s 86us/sample - loss: 0.4785 - accuracy: 0.8097\n",
      "Epoch 160/200\n",
      "1492/1492 [==============================] - 0s 88us/sample - loss: 0.3263 - accuracy: 0.8874\n",
      "Epoch 161/200\n",
      "1492/1492 [==============================] - 0s 85us/sample - loss: 0.3233 - accuracy: 0.8908\n",
      "Epoch 162/200\n",
      "1492/1492 [==============================] - 0s 85us/sample - loss: 0.5643 - accuracy: 0.7574\n",
      "Epoch 163/200\n",
      "1492/1492 [==============================] - 0s 85us/sample - loss: 0.5483 - accuracy: 0.7440\n",
      "Epoch 164/200\n",
      "1492/1492 [==============================] - 0s 88us/sample - loss: 0.5417 - accuracy: 0.7440\n",
      "Epoch 165/200\n",
      "1492/1492 [==============================] - 0s 84us/sample - loss: 0.4613 - accuracy: 0.8023\n",
      "Epoch 166/200\n",
      "1492/1492 [==============================] - 0s 87us/sample - loss: 0.3354 - accuracy: 0.8941\n",
      "Epoch 167/200\n",
      "1492/1492 [==============================] - 0s 84us/sample - loss: 0.2596 - accuracy: 0.9263\n",
      "Epoch 168/200\n",
      "1492/1492 [==============================] - 0s 86us/sample - loss: 0.5404 - accuracy: 0.7976\n",
      "Epoch 169/200\n",
      "1492/1492 [==============================] - 0s 84us/sample - loss: 0.5583 - accuracy: 0.7359\n",
      "Epoch 170/200\n",
      "1492/1492 [==============================] - 0s 91us/sample - loss: 0.5396 - accuracy: 0.7386\n",
      "Epoch 171/200\n",
      "1492/1492 [==============================] - 0s 98us/sample - loss: 0.5278 - accuracy: 0.7440\n",
      "Epoch 172/200\n",
      "1492/1492 [==============================] - 0s 94us/sample - loss: 0.5057 - accuracy: 0.7621\n",
      "Epoch 173/200\n",
      "1492/1492 [==============================] - 0s 93us/sample - loss: 0.4090 - accuracy: 0.8532\n",
      "Epoch 174/200\n",
      "1492/1492 [==============================] - 0s 90us/sample - loss: 0.3079 - accuracy: 0.9129\n",
      "Epoch 175/200\n",
      "1492/1492 [==============================] - 0s 92us/sample - loss: 0.3117 - accuracy: 0.8901\n",
      "Epoch 176/200\n",
      "1492/1492 [==============================] - 0s 92us/sample - loss: 0.2403 - accuracy: 0.9310\n",
      "Epoch 177/200\n",
      "1492/1492 [==============================] - 0s 97us/sample - loss: 0.4381 - accuracy: 0.8492\n",
      "Epoch 178/200\n",
      "1492/1492 [==============================] - 0s 92us/sample - loss: 0.3241 - accuracy: 0.8995\n",
      "Epoch 179/200\n",
      "1492/1492 [==============================] - 0s 100us/sample - loss: 0.2506 - accuracy: 0.9336\n",
      "Epoch 180/200\n",
      "1492/1492 [==============================] - 0s 100us/sample - loss: 0.3294 - accuracy: 0.8834\n",
      "Epoch 181/200\n",
      "1492/1492 [==============================] - 0s 101us/sample - loss: 0.3683 - accuracy: 0.8660\n",
      "Epoch 182/200\n",
      "1492/1492 [==============================] - 0s 94us/sample - loss: 0.3026 - accuracy: 0.8981\n",
      "Epoch 183/200\n",
      "1492/1492 [==============================] - 0s 91us/sample - loss: 0.3440 - accuracy: 0.8780\n",
      "Epoch 184/200\n",
      "1492/1492 [==============================] - 0s 94us/sample - loss: 0.5547 - accuracy: 0.7654\n",
      "Epoch 185/200\n",
      "1492/1492 [==============================] - 0s 96us/sample - loss: 0.4166 - accuracy: 0.8365\n",
      "Epoch 186/200\n",
      "1492/1492 [==============================] - 0s 89us/sample - loss: 0.2634 - accuracy: 0.9357\n",
      "Epoch 187/200\n",
      "1492/1492 [==============================] - 0s 86us/sample - loss: 0.3134 - accuracy: 0.8914\n",
      "Epoch 188/200\n",
      "1492/1492 [==============================] - 0s 107us/sample - loss: 0.6043 - accuracy: 0.7399\n",
      "Epoch 189/200\n",
      "1492/1492 [==============================] - 0s 98us/sample - loss: 0.5363 - accuracy: 0.7433\n",
      "Epoch 190/200\n",
      "1492/1492 [==============================] - 0s 89us/sample - loss: 0.5335 - accuracy: 0.7440\n",
      "Epoch 191/200\n",
      "1492/1492 [==============================] - 0s 84us/sample - loss: 0.5237 - accuracy: 0.7460\n",
      "Epoch 192/200\n",
      "1492/1492 [==============================] - 0s 86us/sample - loss: 0.4654 - accuracy: 0.7949\n",
      "Epoch 193/200\n",
      "1492/1492 [==============================] - 0s 86us/sample - loss: 0.3644 - accuracy: 0.8787\n",
      "Epoch 194/200\n",
      "1492/1492 [==============================] - 0s 86us/sample - loss: 0.3063 - accuracy: 0.9035\n",
      "Epoch 195/200\n",
      "1492/1492 [==============================] - 0s 87us/sample - loss: 0.4561 - accuracy: 0.8157\n",
      "Epoch 196/200\n",
      "1492/1492 [==============================] - 0s 83us/sample - loss: 0.4616 - accuracy: 0.7989\n",
      "Epoch 197/200\n",
      "1492/1492 [==============================] - 0s 86us/sample - loss: 0.3401 - accuracy: 0.8975\n",
      "Epoch 198/200\n",
      "1492/1492 [==============================] - 0s 86us/sample - loss: 0.3269 - accuracy: 0.8887\n",
      "Epoch 199/200\n",
      "1492/1492 [==============================] - 0s 86us/sample - loss: 0.3414 - accuracy: 0.8807\n",
      "Epoch 200/200\n",
      "1492/1492 [==============================] - 0s 89us/sample - loss: 0.2937 - accuracy: 0.8995\n"
     ]
    },
    {
     "data": {
      "text/plain": [
       "<tensorflow.python.keras.callbacks.History at 0x2431dcdfe80>"
      ]
     },
     "execution_count": 138,
     "metadata": {},
     "output_type": "execute_result"
    }
   ],
   "source": [
    "# Build a model\n",
    "model.fit(train_set_x, Y, epochs=200,batch_size=50)# epochs is the iteration"
   ]
  },
  {
   "cell_type": "code",
   "execution_count": 139,
   "metadata": {},
   "outputs": [
    {
     "name": "stdout",
     "output_type": "stream",
     "text": [
      "WARNING:tensorflow:Falling back from v2 loop because of error: Failed to find data adapter that can handle input: <class 'pandas.core.frame.DataFrame'>, <class 'NoneType'>\n",
      "1492/1492 [==============================] - 0s 122us/sample - loss: 0.3913 - accuracy: 0.8458\n",
      "accuracy 84.58445072174072\n"
     ]
    }
   ],
   "source": [
    "# Calculating the accuracy\n",
    "scores = model.evaluate(train_set_x, Y)\n",
    "print(model.metrics_names[1], scores[1]*100)"
   ]
  },
  {
   "cell_type": "code",
   "execution_count": 140,
   "metadata": {},
   "outputs": [
    {
     "name": "stdout",
     "output_type": "stream",
     "text": [
      "(30, 200)\n"
     ]
    },
    {
     "data": {
      "text/plain": [
       "(200,)"
      ]
     },
     "execution_count": 140,
     "metadata": {},
     "output_type": "execute_result"
    }
   ],
   "source": [
    "# check weights of the first hidden layer\n",
    "w,b=model.layers[0].get_weights()\n",
    "print(w.shape)\n",
    "b.shape"
   ]
  },
  {
   "cell_type": "code",
   "execution_count": 141,
   "metadata": {},
   "outputs": [
    {
     "name": "stdout",
     "output_type": "stream",
     "text": [
      "WARNING:tensorflow:Falling back from v2 loop because of error: Failed to find data adapter that can handle input: <class 'pandas.core.frame.DataFrame'>, <class 'NoneType'>\n",
      "WARNING:tensorflow:Falling back from v2 loop because of error: Failed to find data adapter that can handle input: <class 'pandas.core.frame.DataFrame'>, <class 'NoneType'>\n",
      "[[1.]\n",
      " [1.]\n",
      " [1.]\n",
      " [1.]\n",
      " [1.]]\n"
     ]
    },
    {
     "data": {
      "text/plain": [
       "array([[1],\n",
       "       [1],\n",
       "       [1],\n",
       "       [1],\n",
       "       [1]])"
      ]
     },
     "execution_count": 141,
     "metadata": {},
     "output_type": "execute_result"
    }
   ],
   "source": [
    "# calculate the probabilities and the predictions for the first 5 samples\n",
    "prob = model.predict(train_set_x[:5])\n",
    "pred = model.predict_classes(train_set_x[:5])\n",
    "print(prob)\n",
    "pred"
   ]
  },
  {
   "cell_type": "code",
   "execution_count": 142,
   "metadata": {},
   "outputs": [
    {
     "name": "stdout",
     "output_type": "stream",
     "text": [
      "WARNING:tensorflow:Falling back from v2 loop because of error: Failed to find data adapter that can handle input: <class 'pandas.core.frame.DataFrame'>, <class 'NoneType'>\n",
      "[[1000    0]\n",
      " [ 230  262]]\n",
      "              precision    recall  f1-score   support\n",
      "\n",
      "           0       0.81      1.00      0.90      1000\n",
      "           1       1.00      0.53      0.69       492\n",
      "\n",
      "    accuracy                           0.85      1492\n",
      "   macro avg       0.91      0.77      0.80      1492\n",
      "weighted avg       0.87      0.85      0.83      1492\n",
      "\n"
     ]
    }
   ],
   "source": [
    "# Using Classification report\n",
    "from sklearn.metrics import classification_report\n",
    "pred = model.predict_classes(train_set_x)\n",
    "print(confusion_matrix(Y, pred))\n",
    "print(classification_report(Y, pred))"
   ]
  },
  {
   "cell_type": "code",
   "execution_count": 143,
   "metadata": {},
   "outputs": [
    {
     "name": "stdout",
     "output_type": "stream",
     "text": [
      "WARNING:tensorflow:Falling back from v2 loop because of error: Failed to find data adapter that can handle input: <class 'pandas.core.frame.DataFrame'>, <class 'NoneType'>\n"
     ]
    },
    {
     "data": {
      "text/plain": [
       "0.973270325203252"
      ]
     },
     "execution_count": 143,
     "metadata": {},
     "output_type": "execute_result"
    },
    {
     "data": {
      "image/png": "[encoded data removed]",
      "text/plain": [
       "<Figure size 432x288 with 1 Axes>"
      ]
     },
     "metadata": {
      "needs_background": "light"
     },
     "output_type": "display_data"
    }
   ],
   "source": [
    "# Plot ROC\n",
    "from sklearn import metrics\n",
    "prob = model.predict(train_set_x)\n",
    "#Plotting the RoC Curve\n",
    "fpr,tpr,thre= metrics.roc_curve(Y, prob)\n",
    "plt.plot([0,1], [0,1], 'k--')\n",
    "plt.plot(fpr, tpr)\n",
    "plt.title('ROC curve')\n",
    "plt.xlabel('False positive rate')\n",
    "plt.ylabel('True positive rate')\n",
    "\n",
    "# Calculate the area under the curve\n",
    "metrics.auc(fpr,tpr)"
   ]
  },
  {
   "cell_type": "markdown",
   "metadata": {},
   "source": [
    "# Decision Tree"
   ]
  },
  {
   "cell_type": "code",
   "execution_count": 144,
   "metadata": {},
   "outputs": [],
   "source": [
    "# Building the model\n",
    "from sklearn.tree import DecisionTreeClassifier\n",
    "dtree=DecisionTreeClassifier()"
   ]
  },
  {
   "cell_type": "code",
   "execution_count": 145,
   "metadata": {},
   "outputs": [
    {
     "data": {
      "text/plain": [
       "DecisionTreeClassifier(class_weight=None, criterion='gini', max_depth=None,\n",
       "                       max_features=None, max_leaf_nodes=None,\n",
       "                       min_impurity_decrease=0.0, min_impurity_split=None,\n",
       "                       min_samples_leaf=1, min_samples_split=2,\n",
       "                       min_weight_fraction_leaf=0.0, presort=False,\n",
       "                       random_state=None, splitter='best')"
      ]
     },
     "execution_count": 145,
     "metadata": {},
     "output_type": "execute_result"
    }
   ],
   "source": [
    "#fit\n",
    "dtree.fit(X_train_scale, y_train)"
   ]
  },
  {
   "cell_type": "code",
   "execution_count": 146,
   "metadata": {},
   "outputs": [],
   "source": [
    "#pred\n",
    "predictions=dtree.predict(X_test_scale)"
   ]
  },
  {
   "cell_type": "code",
   "execution_count": 147,
   "metadata": {},
   "outputs": [
    {
     "name": "stdout",
     "output_type": "stream",
     "text": [
      "[[291  10]\n",
      " [ 14 133]]\n",
      "              precision    recall  f1-score   support\n",
      "\n",
      "           0       0.95      0.97      0.96       301\n",
      "           1       0.93      0.90      0.92       147\n",
      "\n",
      "    accuracy                           0.95       448\n",
      "   macro avg       0.94      0.94      0.94       448\n",
      "weighted avg       0.95      0.95      0.95       448\n",
      "\n"
     ]
    }
   ],
   "source": [
    "# Creating the classification report\n",
    "from sklearn.metrics import classification_report, confusion_matrix\n",
    "print(confusion_matrix(y_test, predictions))\n",
    "print(classification_report(y_test, predictions))"
   ]
  },
  {
   "cell_type": "markdown",
   "metadata": {},
   "source": [
    "# Random Forest"
   ]
  },
  {
   "cell_type": "code",
   "execution_count": 148,
   "metadata": {},
   "outputs": [
    {
     "data": {
      "text/plain": [
       "RandomForestClassifier(bootstrap=True, class_weight=None, criterion='gini',\n",
       "                       max_depth=None, max_features='auto', max_leaf_nodes=None,\n",
       "                       min_impurity_decrease=0.0, min_impurity_split=None,\n",
       "                       min_samples_leaf=1, min_samples_split=2,\n",
       "                       min_weight_fraction_leaf=0.0, n_estimators=100,\n",
       "                       n_jobs=None, oob_score=False, random_state=None,\n",
       "                       verbose=0, warm_start=False)"
      ]
     },
     "execution_count": 148,
     "metadata": {},
     "output_type": "execute_result"
    }
   ],
   "source": [
    "# Building the random forest model\n",
    "from sklearn.ensemble import RandomForestClassifier\n",
    "rfc = RandomForestClassifier(n_estimators=100)\n",
    "rfc.fit(X_train_scale, y_train)"
   ]
  },
  {
   "cell_type": "code",
   "execution_count": 149,
   "metadata": {},
   "outputs": [
    {
     "name": "stdout",
     "output_type": "stream",
     "text": [
      "Train Accuracy: 1.0\n",
      "Test Accuracy: 0.9620535714285714\n"
     ]
    }
   ],
   "source": [
    "# Calculate the Train Accuracy\n",
    "train_score = rfc.score(X_train_scale, y_train)\n",
    "print(\"Train Accuracy:\",train_score)\n",
    "\n",
    "# Calculate the Test Accuracy\n",
    "test_score = rfc.score(X_test_scale, y_test)\n",
    "print(\"Test Accuracy:\",test_score)"
   ]
  },
  {
   "cell_type": "code",
   "execution_count": 150,
   "metadata": {},
   "outputs": [
    {
     "data": {
      "text/plain": [
       "array([0, 0, 0, 0, 0, 0, 1, 1, 1, 0, 0, 0, 0, 0, 1, 1, 0, 0, 0, 1, 1, 0,\n",
       "       1, 0, 0, 0, 0, 0, 0, 0, 1, 1, 0, 0, 0, 0, 1, 0, 1, 1, 0, 0, 1, 0,\n",
       "       0, 1, 0, 0, 0, 0, 1, 0, 0, 1, 0, 0, 1, 0, 1, 0, 0, 0, 0, 1, 0, 0,\n",
       "       0, 1, 0, 0, 1, 0, 0, 0, 0, 0, 1, 0, 0, 1, 0, 1, 1, 0, 0, 1, 0, 0,\n",
       "       0, 0, 0, 0, 0, 0, 1, 0, 0, 1, 0, 0, 1, 0, 0, 0, 0, 1, 1, 0, 1, 0,\n",
       "       1, 0, 0, 0, 1, 0, 0, 0, 1, 0, 0, 0, 0, 0, 1, 0, 0, 0, 0, 1, 0, 1,\n",
       "       0, 0, 0, 1, 0, 0, 0, 1, 0, 0, 0, 0, 1, 0, 1, 0, 0, 0, 0, 1, 0, 0,\n",
       "       0, 0, 0, 1, 1, 1, 1, 1, 1, 1, 1, 1, 0, 0, 0, 0, 0, 1, 0, 1, 0, 0,\n",
       "       0, 0, 0, 1, 0, 0, 1, 0, 0, 0, 1, 0, 1, 1, 0, 0, 0, 0, 1, 1, 0, 1,\n",
       "       0, 0, 0, 0, 1, 0, 1, 1, 0, 0, 0, 1, 0, 0, 0, 0, 0, 0, 0, 0, 1, 1,\n",
       "       0, 0, 0, 1, 0, 1, 1, 0, 0, 0, 1, 0, 0, 0, 0, 0, 0, 0, 0, 0, 1, 0,\n",
       "       1, 0, 0, 0, 0, 0, 0, 0, 0, 0, 0, 0, 0, 1, 0, 0, 0, 0, 1, 0, 0, 0,\n",
       "       1, 1, 1, 0, 0, 1, 1, 0, 0, 0, 0, 0, 0, 0, 0, 1, 0, 0, 0, 1, 1, 1,\n",
       "       0, 1, 0, 0, 0, 1, 0, 0, 0, 0, 0, 0, 0, 0, 0, 0, 1, 0, 0, 0, 0, 1,\n",
       "       0, 0, 1, 0, 0, 0, 0, 0, 1, 0, 0, 0, 0, 1, 0, 1, 0, 1, 1, 0, 0, 0,\n",
       "       0, 1, 0, 1, 1, 0, 0, 1, 0, 1, 0, 0, 0, 1, 0, 0, 0, 1, 0, 1, 0, 1,\n",
       "       0, 1, 0, 1, 1, 0, 0, 0, 0, 1, 0, 1, 0, 1, 0, 1, 0, 0, 0, 0, 0, 0,\n",
       "       0, 1, 0, 0, 0, 0, 0, 1, 0, 0, 1, 0, 0, 0, 0, 0, 0, 1, 0, 0, 0, 0,\n",
       "       0, 0, 0, 1, 0, 1, 1, 1, 0, 0, 1, 0, 1, 0, 0, 1, 0, 0, 0, 1, 0, 1,\n",
       "       0, 0, 0, 0, 1, 1, 0, 0, 1, 1, 1, 0, 0, 0, 0, 0, 0, 0, 0, 1, 0, 1,\n",
       "       0, 0, 0, 0, 0, 0, 1, 1], dtype=int64)"
      ]
     },
     "execution_count": 150,
     "metadata": {},
     "output_type": "execute_result"
    }
   ],
   "source": [
    "# Predicting the model\n",
    "rfc_pred = rfc.predict(X_test_scale)\n",
    "rfc_pred"
   ]
  },
  {
   "cell_type": "code",
   "execution_count": 151,
   "metadata": {},
   "outputs": [
    {
     "name": "stdout",
     "output_type": "stream",
     "text": [
      "[[299   2]\n",
      " [ 15 132]]\n",
      "              precision    recall  f1-score   support\n",
      "\n",
      "           0       0.95      0.99      0.97       301\n",
      "           1       0.99      0.90      0.94       147\n",
      "\n",
      "    accuracy                           0.96       448\n",
      "   macro avg       0.97      0.95      0.96       448\n",
      "weighted avg       0.96      0.96      0.96       448\n",
      "\n"
     ]
    }
   ],
   "source": [
    "# Creating the classification report\n",
    "print(confusion_matrix(y_test, rfc_pred))\n",
    "print(classification_report(y_test, rfc_pred))"
   ]
  },
  {
   "cell_type": "code",
   "execution_count": 152,
   "metadata": {},
   "outputs": [
    {
     "data": {
      "text/plain": [
       "0.9823829864171582"
      ]
     },
     "execution_count": 152,
     "metadata": {},
     "output_type": "execute_result"
    },
    {
     "data": {
      "image/png": "[encoded data removed]",
      "text/plain": [
       "<Figure size 432x288 with 1 Axes>"
      ]
     },
     "metadata": {
      "needs_background": "light"
     },
     "output_type": "display_data"
    }
   ],
   "source": [
    "from sklearn import metrics\n",
    "prob=rfc.predict_proba(X_test_scale)\n",
    "\n",
    "# Plot the ROC Curve for test\n",
    "\n",
    "fpr,tpr,thre=metrics.roc_curve(y_test, prob[:,1]) \n",
    "plt.plot([0, 1], [0, 1], 'k--')\n",
    "plt.plot(fpr, tpr)\n",
    "plt.title('ROC curve')\n",
    "plt.xlabel('False positive rate')\n",
    "plt.ylabel('True positive rate')\n",
    "\n",
    "# Area under curve\n",
    "metrics.auc(fpr,tpr)"
   ]
  },
  {
   "cell_type": "markdown",
   "metadata": {},
   "source": [
    "****END****\n"
   ]
  },
  {
   "cell_type": "code",
   "execution_count": null,
   "metadata": {},
   "outputs": [],
   "source": []
  }
 ],
 "metadata": {
  "kernelspec": {
   "display_name": "Python 3",
   "language": "python",
   "name": "python3"
  },
  "language_info": {
   "codemirror_mode": {
    "name": "ipython",
    "version": 3
   },
   "file_extension": ".py",
   "mimetype": "text/x-python",
   "name": "python",
   "nbconvert_exporter": "python",
   "pygments_lexer": "ipython3",
   "version": "3.7.1"
  }
 },
 "nbformat": 4,
 "nbformat_minor": 4
}
